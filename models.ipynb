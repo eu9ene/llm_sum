{
 "cells": [
  {
   "cell_type": "code",
   "execution_count": null,
   "metadata": {},
   "outputs": [],
   "source": [
    "!pip install transformers"
   ]
  },
  {
   "cell_type": "code",
   "execution_count": 9,
   "metadata": {},
   "outputs": [
    {
     "name": "stdout",
     "output_type": "stream",
     "text": [
      "huggingface/tokenizers: The current process just got forked, after parallelism has already been used. Disabling parallelism to avoid deadlocks...\n",
      "To disable this warning, you can either:\n",
      "\t- Avoid using `tokenizers` before the fork if possible\n",
      "\t- Explicitly set the environment variable TOKENIZERS_PARALLELISM=(true | false)\n",
      "Collecting sentencepiece\n",
      "  Downloading sentencepiece-0.1.97-cp38-cp38-manylinux_2_17_x86_64.manylinux2014_x86_64.whl (1.3 MB)\n",
      "\u001b[2K     \u001b[90m━━━━━━━━━━━━━━━━━━━━━━━━━━━━━━━━━━━━━━━━\u001b[0m \u001b[32m1.3/1.3 MB\u001b[0m \u001b[31m797.5 kB/s\u001b[0m eta \u001b[36m0:00:00\u001b[0m0:01\u001b[0m00:01\u001b[0m\n",
      "\u001b[?25hInstalling collected packages: sentencepiece\n",
      "Successfully installed sentencepiece-0.1.97\n"
     ]
    }
   ],
   "source": [
    "!pip install sentencepiece"
   ]
  },
  {
   "cell_type": "code",
   "execution_count": null,
   "metadata": {},
   "outputs": [],
   "source": [
    "!pip install openai"
   ]
  },
  {
   "cell_type": "code",
   "execution_count": 1,
   "metadata": {},
   "outputs": [
    {
     "name": "stderr",
     "output_type": "stream",
     "text": [
      "2023-04-03 23:03:30.595587: I tensorflow/core/platform/cpu_feature_guard.cc:193] This TensorFlow binary is optimized with oneAPI Deep Neural Network Library (oneDNN) to use the following CPU instructions in performance-critical operations:  AVX2 FMA\n",
      "To enable them in other operations, rebuild TensorFlow with the appropriate compiler flags.\n",
      "2023-04-03 23:03:31.547479: W tensorflow/compiler/xla/stream_executor/platform/default/dso_loader.cc:64] Could not load dynamic library 'libnvinfer.so.7'; dlerror: libnvinfer.so.7: cannot open shared object file: No such file or directory; LD_LIBRARY_PATH: /opt/intel/compilers_and_libraries_2018.1.163/linux/tbb/lib/intel64_lin/gcc4.7:/opt/intel/compilers_and_libraries_2018.1.163/linux/compiler/lib/intel64_lin:/opt/intel/compilers_and_libraries_2018.1.163/linux/mkl/lib/intel64_lin:/opt/intel/compilers_and_libraries_2018.1.163/linux/tbb/lib/intel64_lin/gcc4.7:/opt/intel/compilers_and_libraries_2018.1.163/linux/compiler/lib/intel64_lin:/opt/intel/compilers_and_libraries_2018.1.163/linux/mkl/lib/intel64_lin::/usr/local/cuda/lib64:/usr/local/cuda/extras/CUPTI/lib64/:/usr/local/cuda/lib64:/usr/local/cuda/extras/CUPTI/lib64/\n",
      "2023-04-03 23:03:31.547602: W tensorflow/compiler/xla/stream_executor/platform/default/dso_loader.cc:64] Could not load dynamic library 'libnvinfer_plugin.so.7'; dlerror: libnvinfer_plugin.so.7: cannot open shared object file: No such file or directory; LD_LIBRARY_PATH: /opt/intel/compilers_and_libraries_2018.1.163/linux/tbb/lib/intel64_lin/gcc4.7:/opt/intel/compilers_and_libraries_2018.1.163/linux/compiler/lib/intel64_lin:/opt/intel/compilers_and_libraries_2018.1.163/linux/mkl/lib/intel64_lin:/opt/intel/compilers_and_libraries_2018.1.163/linux/tbb/lib/intel64_lin/gcc4.7:/opt/intel/compilers_and_libraries_2018.1.163/linux/compiler/lib/intel64_lin:/opt/intel/compilers_and_libraries_2018.1.163/linux/mkl/lib/intel64_lin::/usr/local/cuda/lib64:/usr/local/cuda/extras/CUPTI/lib64/:/usr/local/cuda/lib64:/usr/local/cuda/extras/CUPTI/lib64/\n",
      "2023-04-03 23:03:31.547615: W tensorflow/compiler/tf2tensorrt/utils/py_utils.cc:38] TF-TRT Warning: Cannot dlopen some TensorRT libraries. If you would like to use Nvidia GPU with TensorRT, please make sure the missing libraries mentioned above are installed properly.\n"
     ]
    }
   ],
   "source": [
    "import openai\n",
    "from tenacity import (\n",
    "    retry,\n",
    "    stop_after_attempt,\n",
    "    wait_random_exponential,\n",
    ")  # for exponential backoff\n",
    "\n",
    "import transformers\n",
    "from transformers import AutoTokenizer, AutoModelForCausalLM, AutoModelForSeq2SeqLM\n",
    "from transformers import pipeline\n",
    "from transformers import BartTokenizer, PegasusTokenizer\n",
    "from transformers import BartForConditionalGeneration, PegasusForConditionalGeneration\n",
    "\n",
    "\n",
    "import json\n",
    "from tqdm.notebook import tqdm"
   ]
  },
  {
   "cell_type": "markdown",
   "metadata": {},
   "source": [
    "## Load sampled datasets"
   ]
  },
  {
   "cell_type": "code",
   "execution_count": 2,
   "metadata": {},
   "outputs": [],
   "source": [
    "def load_data(path):\n",
    "    with open(path) as f:\n",
    "        return json.load(f)\n",
    "    \n",
    "cnn = load_data('data/cnn_sample.json')\n",
    "xsum = load_data('data/xsum_sample.json')\n",
    "newsroom = load_data('data/newsroom_sample.json')"
   ]
  },
  {
   "cell_type": "code",
   "execution_count": 3,
   "metadata": {},
   "outputs": [
    {
     "data": {
      "text/plain": [
       "{'text': 'Johannesburg (CNN)He checked the series of stills on his camera. It was then that photographer James Oatway realized the entire attack had taken less than two minutes. It was the morning after a night of unrest in Johannesburg\\'s Alexandra Township that saw foreign-owned shops looted and destroyed. Mozambican Emmanuel Sithole was walking down a street when four South Africans surrounded him. Sithole pleaded for mercy, but it was already too late. The attackers bludgeoned him with a wrench, stabbed him with knives, all in broad daylight. And Oatway had captured it all on his camera. \"They looked like hardened thugs, just by their intensity, the way they moved, the expressions on their faces,\" Oatway told CNN. \"They wanted one thing and that was to kill Emmanuel. They wanted his blood and nothing was going to stop them from doing that.\" Oatway says he tried to get as close as possible, conscious that the attackers were aware of his presence. \"When the attack started I was 20 meters (65 feet) away, but at one point I was 4 or 5 meters away,\" he said. \"I did think that maybe they would leave him alone.\" The attackers finally did move on and leave Sithole alone. Oatway and his fellow journalist Beauregard Tromp quickly put the injured man in the back of the car and rushed him to a hospital, where he later died. \"I still remember him looking straight into my eyes,\" said Oatway. \"He had a kind of a dazed, shocked look in his face.\" Oatway\\'s series of images of the ordeal landed on the front page of South Africa\\'s Sunday Times under the headline, \"Kill thy neighbor: Alex attack brings home SA\\'s shame.\" It\\'s a shame that South Africa continues to confront. Seven people have been killed in the latest round of xenophobic violence against poorer immigrants, many from South Africa\\'s neighbors. Xenophobic attacks: How did we get here? Local media alleged that the attacks were a consequence of Zulu King Goodwill Zwelithini reportedly saying at a recent gathering that foreigners \"should pack their bags and go\" because they are taking jobs from citizens. Shortly after his reported comments, violence against immigrants erupted in the port city of Durban. But on Monday, Zwelithini said he had not called for a war on immigrants. \"This war I am calling for today is to protect everyone of foreign origin in this country irrespective of which country they are from.\" The United Nations said the attacks actually began in March after a labor dispute between citizens and foreign workers. OPINION: Labeling South Africa violence as xenophobia misses the point. But it was Oatway\\'s photos of the violent attack on Sithole that have seemingly encapsulated the true horror of the situation -- and South Africa\\'s leaders have begun to take notice. \"Terrible picture. People who live in rough townships have never seen such a scene,\" said President Jacob Zuma about the photos in a televised news conference. \"And I was sitting and I was saying to myself, what are we telling the world about ourselves?\" Police announced they\\'ve now arrested all four suspects -- the last caught overnight Tuesday -- with help from Oatway\\'s photos, which is little solace for the photographer who captured a level of depravity rarely seen. \"I\\'m sickened by it,\" said Oatway. \"And I\\'m extremely angry, angry with the men that did this, and ultimately I\\'m upset that our efforts weren\\'t successful in saving Emmanuel\\'s life.\"',\n",
       " 'summary': \"Photographer James Oatway captured a violent attack that resulted in death of a Mozambican in South Africa. Seven people have been killed in recent violence against poorer immigrants, many from South Africa's neighbors.\"}"
      ]
     },
     "execution_count": 3,
     "metadata": {},
     "output_type": "execute_result"
    }
   ],
   "source": [
    "cnn[0]"
   ]
  },
  {
   "cell_type": "code",
   "execution_count": 4,
   "metadata": {},
   "outputs": [
    {
     "data": {
      "text/plain": [
       "{'text': \"Tulip has been covering the outbreak over the past few months, reporting on the children born with microcephaly and other birth defects believed to be caused by the virus as well as speaking to scientists who are leading the fight back against Zika. Many of you got in touch on Facebook to ask Tulip questions about the new vaccine, and when it might be available to pregnant women. This is an edited version of the Facebook Q&A. Question from Dawn McLean: Have you tested the vaccine already? How do you know if it works or not? Tulip answers: Human trials haven't started for the vaccine being developed by the National Institutes of Health - where I have been reporting from this week. They are due to start - assuming no major problems - in the summer/ autumn of this year. If the vaccine is found to be safe with no concerning side effects, the drug will be given to a larger number of people to test how effective it is and further evaluate its safety. The final phase is giving it to large groups of people to confirm how effective it is. Question from Priscilla Wakanuma: How possible is it to make a vaccine for this virus? Tulip replies: Scientists here in Bethesda at the National Institutes of Health think it's very possible. They already have a vaccine for a similar virus - West Nile - which they have been working on. So they're using some of the tried and tested methods from that to try and develop a vaccine for Zika ASAP. Taj Rahman asks: The vaccine is available in November, I thought this was a global emergency? Tulip replies: Hi Taj - getting vaccines ready for market takes years, often decades. They have to go through stringent safety and efficacy trials and then get signed off by a whole load of regulatory bodies. When the WHO declared this public health emergency last month, one of the key things they highlighted was the urgent need for research into new vaccines. Scientists and pharmaceuticals came together very fast on Ebola, it's hoped that can happen again this time. But sadly, many more babies are expected to be born with these birth defects in the meantime. Question from Hannah Borrett: How have they managed to push through the development so quickly? Tulip replies: You're right, it can take years, decades even to get a new vaccine through all the clinical trials and then signed off through all the various national and international regulatory authorities. But in an emergency - which the Zika outbreak now is - things can be fast-tracked. A lot more money is put into research, and there's a much bigger political will to get things moving fast. Take the Ebola outbreak for example, there are now a couple of candidate vaccines that could be used in an outbreak that have shown some efficacy. Research - and cash - for that vaccine was pushed through super quickly. Adebola Misturah Martins-Bello asks about plans to prioritise who will be considered a priority for the vaccine. Tulip replies: The plan here at the National Institutes of Health is to have a special focus on protecting pregnant women. The virus isn't particularly harmful for most people, but the concern is this strongly suspected link to babies of infected mothers being born with under developed brains. If a link if confirmed, and a vaccine is developed quickly - health authorities will look into whether to add it to childhood vaccines, a bit like the rubella vaccine, which also protects girls/ women if they have babies later in life. You can follow @tulipmazumdar on Twitter.\",\n",
       " 'summary': \"The BBC's Global Health Correspondent Tulip Mazumdar has been investigating a new Zika vaccine which could be ready for human trials later this year.\"}"
      ]
     },
     "execution_count": 4,
     "metadata": {},
     "output_type": "execute_result"
    }
   ],
   "source": [
    "xsum[0]"
   ]
  },
  {
   "cell_type": "markdown",
   "metadata": {},
   "source": [
    "# Summarizatino models"
   ]
  },
  {
   "cell_type": "markdown",
   "metadata": {},
   "source": [
    "## BART"
   ]
  },
  {
   "cell_type": "code",
   "execution_count": 3,
   "metadata": {},
   "outputs": [],
   "source": [
    "bart = pipeline(\"summarization\", model=\"facebook/bart-large-cnn\", device=0)"
   ]
  },
  {
   "cell_type": "code",
   "execution_count": 4,
   "metadata": {},
   "outputs": [],
   "source": [
    "def run_bart(text, min_length, max_length):\n",
    "    return bart(text, max_length=max_length, min_length=min_length, do_sample=False)[0]['summary_text']"
   ]
  },
  {
   "cell_type": "code",
   "execution_count": 5,
   "metadata": {},
   "outputs": [
    {
     "name": "stdout",
     "output_type": "stream",
     "text": [
      "Mozambican Emmanuel Sithole was attacked by four South Africans in Johannesburg. Photographer James Oatway captured the entire attack on his camera. \"They wanted his blood and nothing was going to stop them from doing that,\" he says. Seven people have been killed in the latest\n",
      "CPU times: user 1.8 s, sys: 72.3 ms, total: 1.87 s\n",
      "Wall time: 2.1 s\n"
     ]
    }
   ],
   "source": [
    "%%time\n",
    "\n",
    "print(run_bart(cnn[0]['text'], max_length=60, min_length=20))"
   ]
  },
  {
   "cell_type": "markdown",
   "metadata": {},
   "source": [
    "## BRIO"
   ]
  },
  {
   "cell_type": "code",
   "execution_count": 16,
   "metadata": {},
   "outputs": [],
   "source": [
    "DEVICE = 'cuda:0'\n",
    "\n",
    "brio_cnn = BartForConditionalGeneration.from_pretrained('Yale-LILY/brio-cnndm-uncased').to(DEVICE)\n",
    "brio_cnn_tokenizer = BartTokenizer.from_pretrained('Yale-LILY/brio-cnndm-uncased')\n",
    "\n"
   ]
  },
  {
   "cell_type": "code",
   "execution_count": 17,
   "metadata": {},
   "outputs": [],
   "source": [
    "brio = PegasusForConditionalGeneration.from_pretrained('Yale-LILY/brio-xsum-cased').to(DEVICE)\n",
    "brio_tokenizer = PegasusTokenizer.from_pretrained('Yale-LILY/brio-xsum-cased')"
   ]
  },
  {
   "cell_type": "code",
   "execution_count": 21,
   "metadata": {},
   "outputs": [],
   "source": [
    "def run_brio_cnn(text):\n",
    "    inputs = brio_cnn_tokenizer([text.lower()], max_length=1024, \n",
    "                                return_tensors=\"pt\", truncation=True).to(DEVICE)\n",
    "    summary_ids = brio_cnn.generate(inputs[\"input_ids\"])\n",
    "    return brio_cnn_tokenizer.batch_decode(summary_ids, skip_special_tokens=True, \n",
    "                                  clean_up_tokenization_spaces=False)[0]\n",
    "\n",
    "def run_brio(text):\n",
    "    inputs = brio_tokenizer([text], max_length=512, return_tensors=\"pt\", truncation=True).to(DEVICE)\n",
    "    summary_ids = brio.generate(inputs[\"input_ids\"])\n",
    "    return brio_tokenizer.batch_decode(summary_ids, skip_special_tokens=True, \n",
    "                                  clean_up_tokenization_spaces=False)[0]"
   ]
  },
  {
   "cell_type": "code",
   "execution_count": 22,
   "metadata": {},
   "outputs": [
    {
     "name": "stdout",
     "output_type": "stream",
     "text": [
      "CPU times: user 1.91 s, sys: 7.95 ms, total: 1.92 s\n",
      "Wall time: 1.91 s\n"
     ]
    },
    {
     "data": {
      "text/plain": [
       "'james oatway captured photos of a south africa attack on a mozambican man in johannesburg. the photographer captured the attack on his camera in less than two minutes. seven people have been killed in the latest round of xenophobic violence against immigrants. police have arrested four suspects in the attack.'"
      ]
     },
     "execution_count": 22,
     "metadata": {},
     "output_type": "execute_result"
    }
   ],
   "source": [
    "%%time\n",
    "\n",
    "run_brio_cnn(cnn[0]['text'])"
   ]
  },
  {
   "cell_type": "code",
   "execution_count": 23,
   "metadata": {},
   "outputs": [
    {
     "name": "stdout",
     "output_type": "stream",
     "text": [
      "CPU times: user 1.72 s, sys: 212 µs, total: 1.72 s\n",
      "Wall time: 1.91 s\n"
     ]
    },
    {
     "data": {
      "text/plain": [
       "'The World Health Organization (WHO) has declared the Zika virus outbreak in Brazil a global public health emergency, and a new vaccine is being developed.'"
      ]
     },
     "execution_count": 23,
     "metadata": {},
     "output_type": "execute_result"
    }
   ],
   "source": [
    "%%time\n",
    "run_brio(xsum[0]['text'])"
   ]
  },
  {
   "cell_type": "markdown",
   "metadata": {},
   "source": [
    "# LLMs"
   ]
  },
  {
   "cell_type": "code",
   "execution_count": 64,
   "metadata": {},
   "outputs": [],
   "source": [
    "# prefix\n",
    "NEWSROOM_PROMPT_PRE = \"Summarize the article below in 2 to 3 sentences:\"\n",
    "CNN_PROMPT_PRE = \"Summarize the article below in 3 to 4 sentences:\"\n",
    "XSUM_PROMPT_PRE = \"Summarize the article below in 1 sentence:\"\n",
    "\n",
    "# for open ai\n",
    "NEWSROOM_PROMPT_POST = \"Summarize the above article briefly in 2 to 3 sentences.\"\n",
    "CNN_PROMPT_POST = \"Summarize the above article briefly in 3 to 4 sentences.\"\n",
    "XSUM_PROMPT_POST = \"Summarize the above article briefly in 1 sentence.\"\n",
    "\n",
    "\n",
    "#eleuther\n",
    "REGULAR_SUMMARY_POST = \"Summary:\"\n",
    "\n",
    "# style, for open ai\n",
    "NEWSROOM_PROMPT_STYLE_POST = \"Generate a brief and engaging 2 to 3 sentence summary for the article above.\"\n",
    "CNN_PROMPT_STYLE_POST = \"Generate a brief and engaging 3 to 4 sentence summary for the article above.\"\n",
    "XSUM_PROMPT_STYLE_POST = \"Generate a brief and engaging 1 sentence summary for the article above.\""
   ]
  },
  {
   "cell_type": "code",
   "execution_count": 51,
   "metadata": {},
   "outputs": [],
   "source": [
    "def get_prompt(text, prompt, pre=True, end='\\n\\n'):\n",
    "    if pre:\n",
    "        return f\"{prompt}\\n\\n{text}{end}\"\n",
    "    else:\n",
    "        return f\"{text}\\n\\n{prompt}{end}\""
   ]
  },
  {
   "cell_type": "markdown",
   "metadata": {},
   "source": [
    "## Eleuther"
   ]
  },
  {
   "cell_type": "code",
   "execution_count": 6,
   "metadata": {},
   "outputs": [],
   "source": [
    "import torch\n",
    "\n",
    "eleuther_model_name = \"gpt-neo-1.3B\"\n",
    "\n",
    "eleuther_tokenizer = AutoTokenizer.from_pretrained(\n",
    "    f\"EleutherAI/{eleuther_model_name}\", \n",
    "    padding_side=\"left\", \n",
    "    padding='longest', \n",
    "    truncation='longest_first', max_length=2000)\n",
    "eleuther_tokenizer.pad_token = eleuther_tokenizer.eos_token\n",
    "\n",
    "eleuther_model = AutoModelForCausalLM.from_pretrained(\n",
    "    f\"EleutherAI/{eleuther_model_name}\")\n",
    "\n",
    "device = \"cuda\" if torch.cuda.is_available() else \"cpu\"\n",
    "eleuther_model = eleuther_model.to(device)"
   ]
  },
  {
   "cell_type": "code",
   "execution_count": 8,
   "metadata": {},
   "outputs": [],
   "source": [
    "def _find_generated_answer(tokens, newline=\"\\n\" ): \n",
    "    \"\"\"Our LMs tend to insert initial newline characters before\n",
    "    they begin generating text. This function ensures that we \n",
    "    properly capture the true first line as the answer while\n",
    "    also ensuring that token probabilities are aligned.\"\"\"        \n",
    "    answer_token_indices = []\n",
    "    char_seen = False            \n",
    "    for i, tok in enumerate(tokens):\n",
    "        # This is the main condition: a newline that isn't an initial\n",
    "        # string of newlines:\n",
    "        if tok == newline and char_seen:\n",
    "            break\n",
    "        # Keep the initial newlines for consistency:\n",
    "        elif tok == newline and not char_seen:\n",
    "            answer_token_indices.append(i)\n",
    "        # Proper tokens:\n",
    "        elif tok != newline:\n",
    "            char_seen = True\n",
    "            answer_token_indices.append(i)\n",
    "    return answer_token_indices "
   ]
  },
  {
   "cell_type": "code",
   "execution_count": 11,
   "metadata": {},
   "outputs": [],
   "source": [
    "def run_eleuther(prompts, temperature=0.1, top_p=0.95, max_new_tokens=100, **generate_kwargs): \n",
    "    prompt_ids = eleuther_tokenizer(\n",
    "        prompts, return_tensors=\"pt\", padding=True).input_ids.to(device)\n",
    "        \n",
    "    with torch.inference_mode():\n",
    "        # Automatic mixed precision if possible.\n",
    "        with torch.cuda.amp.autocast() if torch.cuda.is_available() else nullcontext():\n",
    "            model_output = eleuther_model.generate(\n",
    "                prompt_ids,\n",
    "                temperature=temperature,\n",
    "                do_sample=True,\n",
    "                top_p=top_p,           \n",
    "                max_new_tokens=max_new_tokens,\n",
    "                num_return_sequences=1,                \n",
    "                pad_token_id=eleuther_tokenizer.eos_token_id, \n",
    "                return_dict_in_generate=True,\n",
    "                output_scores=True,\n",
    "                **generate_kwargs)\n",
    "        \n",
    "    # Converting output scores using the helpful recipe here:\n",
    "    # https://discuss.huggingface.co/t/generation-probabilities-how-to-compute-probabilities-of-output-scores-for-gpt2/3175\n",
    "    gen_ids = model_output.sequences[:, prompt_ids.shape[-1] :]\n",
    "    gen_probs = torch.stack(model_output.scores, dim=1).softmax(-1)\n",
    "    gen_probs = torch.gather(gen_probs, 2, gen_ids[:, :, None]).squeeze(-1)\n",
    "    \n",
    "    # Generated texts, including the prompts:\n",
    "    gen_texts = eleuther_tokenizer.batch_decode(\n",
    "        model_output.sequences, skip_special_tokens=True)\n",
    "    \n",
    "    data = []     \n",
    "    iterator = zip(prompts, gen_ids, gen_texts, gen_probs)    \n",
    "    for prompt, gen_id, gen_text, gen_prob in iterator:       \n",
    "        gen_tokens = eleuther_tokenizer.convert_ids_to_tokens(gen_id)\n",
    "        generated_text = gen_text[len(prompt): ]\n",
    "        gen_prob = [float(x) for x in gen_prob.cpu().numpy()] # float for JSON storage\n",
    "        ans_indices = _find_generated_answer(gen_tokens, newline=\"Ċ\")\n",
    "        answer_tokens = [gen_tokens[i] for i in ans_indices]\n",
    "        answer_probs = [gen_prob[i] for i in ans_indices]\n",
    "        answer = \"\".join(answer_tokens).replace(\"Ġ\", \" \").replace(\"Ċ\", \"\\n\")                                       \n",
    "        data.append({\n",
    "            \"prompt\": prompt,\n",
    "            \"generated_text\": generated_text,\n",
    "            \"generated_tokens\": gen_tokens,\n",
    "            \"generated_probs\": gen_prob,\n",
    "            \"generated_answer\": answer,\n",
    "            \"generated_answer_probs\": answer_probs,\n",
    "            \"generated_answer_tokens\": answer_tokens})                        \n",
    "\n",
    "    return data"
   ]
  },
  {
   "cell_type": "code",
   "execution_count": 55,
   "metadata": {},
   "outputs": [
    {
     "data": {
      "text/plain": [
       "\"\\nThe South African government has announced that it will investigate the death of a South African man who was stabbed to death by four men in Johannesburg's Alexandra Township. The attack took place on the morning of August 31, and the South African government has said that it will investigate the incident. The South African government has said that it will investigate the incident.\""
      ]
     },
     "execution_count": 55,
     "metadata": {},
     "output_type": "execute_result"
    }
   ],
   "source": [
    "prompts = ['''Johannesburg (CNN)He checked the series of stills on his camera. It was then that photographer James Oatway realized the entire attack had taken less than two minutes. It was the morning after a night of unrest in Johannesburg\\'s Alexandra Township that saw foreign-owned shops looted and destroyed. Mozambican Emmanuel Sithole was walking down a street when four South Africans surrounded him. Sithole pleaded for mercy, but it was already too late. The attackers bludgeoned him with a wrench, stabbed him with knives, all in broad daylight. And Oatway had captured it all on his camera. \"They looked like hardened thugs, just by their intensity, the way they moved, the expressions on their faces,\" Oatway told CNN. \"They wanted one thing and that was to kill Emmanuel. They wanted his blood and nothing was going to stop them from doing that.\" Oatway says he tried to get as close as possible, conscious that the attackers were aware of his presence. \"When the attack started I was 20 meters (65 feet) away, but at one point I was 4 or 5 meters away,\" he said. \"I did think that maybe they would leave him alone.\" The attackers finally did move on and leave Sithole alone. Oatway and his fellow journalist Beauregard Tromp quickly put the injured man in the back of the car and rushed him to a hospital, where he later died. \"I still remember him looking straight into my eyes,\" said Oatway. \"He had a kind of a dazed, shocked look in his face.\" Oatway\\'s series of images of the ordeal landed on the front page of South Africa\\'s Sunday Times under the headline, \"Kill thy neighbor: Alex attack brings home SA\\'s shame.\" It\\'s a shame that South Africa continues to confront. Seven people have been killed in the latest round of xenophobic violence against poorer immigrants, many from South Africa\\'s neighbors. Xenophobic attacks: How did we get here? Local media alleged that the attacks were a consequence of Zulu King Goodwill Zwelithini reportedly saying at a recent gathering that foreigners \"should pack their bags and go\" because they are taking jobs from citizens. Shortly after his reported comments, violence against immigrants erupted in the port city of Durban. But on Monday, Zwelithini said he had not called for a war on immigrants. \"This war I am calling for today is to protect everyone of foreign origin in this country irrespective of which country they are from.\" The United Nations said the attacks actually began in March after a labor dispute between citizens and foreign workers. OPINION: Labeling South Africa violence as xenophobia misses the point. But it was Oatway\\'s photos of the violent attack on Sithole that have seemingly encapsulated the true horror of the situation -- and South Africa\\'s leaders have begun to take notice. \"Terrible picture. People who live in rough townships have never seen such a scene,\" said President Jacob Zuma about the photos in a televised news conference. \"And I was sitting and I was saying to myself, what are we telling the world about ourselves?\" Police announced they\\'ve now arrested all four suspects -- the last caught overnight Tuesday -- with help from Oatway\\'s photos, which is little solace for the photographer who captured a level of depravity rarely seen. \"I\\'m sickened by it,\" said Oatway. \"And I\\'m extremely angry, angry with the men that did this, and ultimately I\\'m upset that our efforts weren\\'t successful in saving Emmanuel\\'s life.\"\n",
    "\n",
    "Summary:\n",
    "''']\n",
    "\n",
    "run_eleuther(prompts)[0]['generated_answer']"
   ]
  },
  {
   "cell_type": "code",
   "execution_count": 67,
   "metadata": {},
   "outputs": [],
   "source": [
    "def run_llm(text, prompt, pre, temperature=0.1, top_p=0.95, max_new_tokens=100):\n",
    "    prompt = get_prompt(text, prompt, pre, end='\\n')\n",
    "    # print(prompt)\n",
    "    generated = run_eleuther([prompt],                \n",
    "                temperature=temperature,\n",
    "                top_p=top_p,           \n",
    "                max_new_tokens=max_new_tokens)\n",
    "    return generated[0]['generated_answer'].strip()"
   ]
  },
  {
   "cell_type": "code",
   "execution_count": 74,
   "metadata": {},
   "outputs": [
    {
     "data": {
      "text/plain": [
       "'The BBCâĢĻs Wolf Hall, starring Damian Lewis, is a six-part drama series that was first broadcast in the U.S. for the first time. The series is set in the Tudor period in which the Tudor dynasty was in power and the period of religious turmoil that followed the death of Henry VIII. The series is set in the fictional town of Wolf Hall, which is based on the town of Wolf Hall in the English county of Northamptonshire. The series is set in the 16th century and follows the lives of the six main characters: Thomas Cromwell, the hero of the series; Sir Thomas More, the Catholic martyr; Thomas CromwellâĢĻs son, Thomas Cromwell; Sir Thomas'"
      ]
     },
     "execution_count": 74,
     "metadata": {},
     "output_type": "execute_result"
    }
   ],
   "source": [
    "run_llm(cnn[1]['text'], REGULAR_SUMMARY_POST, pre=False, max_new_tokens=150)"
   ]
  },
  {
   "cell_type": "code",
   "execution_count": 63,
   "metadata": {},
   "outputs": [
    {
     "data": {
      "text/plain": [
       "'\\nThe article is about a man who was attacked by four men in Johannesburg. The article is about the man who was attacked by four men in Johannesburg.'"
      ]
     },
     "execution_count": 63,
     "metadata": {},
     "output_type": "execute_result"
    }
   ],
   "source": [
    "run_llm(cnn[0]['text'], CNN_PROMPT_STYLE_POST, pre=False, \n",
    "       max_new_tokens=100)"
   ]
  },
  {
   "cell_type": "code",
   "execution_count": 66,
   "metadata": {},
   "outputs": [
    {
     "data": {
      "text/plain": [
       "\"\\nThe article is a bit long, but it's a good read.\""
      ]
     },
     "execution_count": 66,
     "metadata": {},
     "output_type": "execute_result"
    }
   ],
   "source": [
    "run_llm(cnn[0]['text'], CNN_PROMPT_PRE, pre=True, \n",
    "       max_new_tokens=256)\n"
   ]
  },
  {
   "cell_type": "code",
   "execution_count": 72,
   "metadata": {},
   "outputs": [
    {
     "data": {
      "text/plain": [
       "'The Association of Directors of Adult Social Services (ADASS) has warned that the government\\'s plans to cut funding for social care services are \"unendurable\".'"
      ]
     },
     "execution_count": 72,
     "metadata": {},
     "output_type": "execute_result"
    }
   ],
   "source": [
    "run_llm(xsum[1]['text'], REGULAR_SUMMARY_POST, pre=False, max_new_tokens=60)"
   ]
  },
  {
   "cell_type": "code",
   "execution_count": 80,
   "metadata": {},
   "outputs": [
    {
     "data": {
      "text/plain": [
       "'The cause of the outbreak was a new strain of influenza A virus, which had been circulating in the community for several years. The virus was first detected in the New York City area in late October. The virus was first identified in the New York City area in late October. The virus was first identified in the New York City area in late October.'"
      ]
     },
     "execution_count": 80,
     "metadata": {},
     "output_type": "execute_result"
    }
   ],
   "source": [
    "run_llm(newsroom[0]['text'], 'Summary:', pre=False, max_new_tokens=100)"
   ]
  },
  {
   "cell_type": "markdown",
   "metadata": {},
   "source": [
    "## T0"
   ]
  },
  {
   "cell_type": "code",
   "execution_count": null,
   "metadata": {},
   "outputs": [],
   "source": [
    "t0 = pipeline('text-generation', model='bigscience/T0_3B')"
   ]
  },
  {
   "cell_type": "markdown",
   "metadata": {},
   "source": [
    "## Open AI"
   ]
  },
  {
   "cell_type": "code",
   "execution_count": 35,
   "metadata": {},
   "outputs": [],
   "source": [
    "# gpt3\n",
    "ADA = 'text-ada-001' # cheapest\n",
    "BABBAGE = 'text-babbage-001'\n",
    "CURIE = 'text-curie-001'\n",
    "\n",
    "# gpt3.5\n",
    "DAVINCI = 'text-davinci-003'\n",
    "\n",
    "\n",
    "@retry(wait=wait_random_exponential(min=1, max=60), stop=stop_after_attempt(6))\n",
    "def run_gpt3(prompts, engine=ADA, temperature=0.1, top_p=0.95, max_tokens=256):\n",
    "    # add your key here\n",
    "    openai.api_key = ''\n",
    "    \n",
    "    assert engine.startswith(\"text\"), \\\n",
    "        \"Please use an engine whose name begins with 'text'.\"\n",
    "        \n",
    "    response = openai.Completion.create(\n",
    "        engine=engine,       \n",
    "        prompt=prompts,\n",
    "        temperature=temperature,\n",
    "        top_p=top_p,\n",
    "        max_tokens=max_tokens,\n",
    "        echo=False)\n",
    "    \n",
    "\n",
    "    return [ c.text for c in response[\"choices\"]]\n",
    "         "
   ]
  },
  {
   "cell_type": "code",
   "execution_count": 37,
   "metadata": {},
   "outputs": [],
   "source": [
    "def run_openai(text, prompt, pre, engine, temperature=0.1):\n",
    "    prompt = get_prompt(text, prompt, pre)\n",
    "    res = run_gpt3([prompt], engine, temperature=temperature)\n",
    "    return res[0].strip()"
   ]
  },
  {
   "cell_type": "code",
   "execution_count": 38,
   "metadata": {},
   "outputs": [
    {
     "data": {
      "text/plain": [
       "\"Photographer James Oatway captured the attack on Mozambican Emmanuel Sithole that left him dead in broad daylight. The attackers looked like hardened thugs and wanted his blood, and Oatway tried to get as close as possible before they moved on. Seven people have been killed in the latest round of xenophobic violence against poorer immigrants, many from South Africa's neighbors.\""
      ]
     },
     "execution_count": 38,
     "metadata": {},
     "output_type": "execute_result"
    }
   ],
   "source": [
    "run_openai(cnn[0]['text'], CNN_PROMPT_POST, pre=False, engine=CURIE)"
   ]
  },
  {
   "cell_type": "code",
   "execution_count": 39,
   "metadata": {},
   "outputs": [
    {
     "data": {
      "text/plain": [
       "'James Oatway is a photographer who captured the attack on Emmanuel Sithole in Johannesburg\\'s Alexandra Township that left him dead. The attackers, all South Africans, appear to have been motivated by xenophobia and killed Sithole with a wrench, knives, and a blunt object in broad daylight. Oatway\\'s photos of the attack landed on the front page of South Africa\\'s Sunday Times under the headline, \"Kill thy neighbor: Alex attack brings home SA\\'s shame.\" Although the attackers have been arrested, Oatway says he\\'s sickened by what he captured and is angry with the men who did this.'"
      ]
     },
     "execution_count": 39,
     "metadata": {},
     "output_type": "execute_result"
    }
   ],
   "source": [
    "run_openai(cnn[0]['text'], CNN_PROMPT_STYLE_POST, pre=False, engine=CURIE, \n",
    "           temperature=0.9)"
   ]
  },
  {
   "cell_type": "markdown",
   "metadata": {},
   "source": [
    "# Running on datasets"
   ]
  },
  {
   "cell_type": "code",
   "execution_count": 82,
   "metadata": {},
   "outputs": [],
   "source": [
    "def run_on_data(name, dataset, run_func):\n",
    "    sums = [run_func(doc['text']) for doc in tqdm(dataset)] \n",
    "    \n",
    "    with open(f'results/{name}.json', 'w') as f:\n",
    "        json.dump(sums, f)"
   ]
  },
  {
   "cell_type": "code",
   "execution_count": 46,
   "metadata": {},
   "outputs": [
    {
     "name": "stderr",
     "output_type": "stream",
     "text": [
      "100%|██████████| 100/100 [01:44<00:00,  1.04s/it]\n"
     ]
    }
   ],
   "source": [
    "run_on_data('cnn_style_curie', cnn, \n",
    "    lambda t: run_openai(t, CNN_PROMPT_STYLE_POST, pre=False, engine=CURIE, temperature=0.9))"
   ]
  },
  {
   "cell_type": "code",
   "execution_count": 47,
   "metadata": {},
   "outputs": [
    {
     "name": "stderr",
     "output_type": "stream",
     "text": [
      "100%|██████████| 100/100 [01:06<00:00,  1.50it/s]\n"
     ]
    }
   ],
   "source": [
    "run_on_data('xsum_style_curie', xsum, \n",
    "    lambda t: run_openai(t, XSUM_PROMPT_STYLE_POST, pre=False, engine=CURIE, temperature=0.9))"
   ]
  },
  {
   "cell_type": "code",
   "execution_count": 48,
   "metadata": {},
   "outputs": [
    {
     "name": "stderr",
     "output_type": "stream",
     "text": [
      "100%|██████████| 100/100 [01:31<00:00,  1.09it/s]\n"
     ]
    }
   ],
   "source": [
    "run_on_data('newsroom_style_curie', newsroom, \n",
    "    lambda t: run_openai(t, NEWSROOM_PROMPT_STYLE_POST, pre=False, engine=CURIE, temperature=0.9))"
   ]
  },
  {
   "cell_type": "code",
   "execution_count": 49,
   "metadata": {},
   "outputs": [
    {
     "name": "stderr",
     "output_type": "stream",
     "text": [
      "100%|██████████| 100/100 [02:05<00:00,  1.26s/it]\n"
     ]
    }
   ],
   "source": [
    "run_on_data('cnn_curie', cnn, \n",
    "    lambda t: run_openai(t, CNN_PROMPT_POST, pre=False, engine=CURIE))"
   ]
  },
  {
   "cell_type": "code",
   "execution_count": 50,
   "metadata": {},
   "outputs": [
    {
     "name": "stderr",
     "output_type": "stream",
     "text": [
      "100%|██████████| 100/100 [01:07<00:00,  1.49it/s]\n"
     ]
    }
   ],
   "source": [
    "run_on_data('xsum_curie', xsum, \n",
    "    lambda t: run_openai(t, XSUM_PROMPT_POST, pre=False, engine=CURIE))"
   ]
  },
  {
   "cell_type": "code",
   "execution_count": 58,
   "metadata": {},
   "outputs": [
    {
     "name": "stderr",
     "output_type": "stream",
     "text": [
      "100%|██████████| 100/100 [01:48<00:00,  1.08s/it]\n"
     ]
    }
   ],
   "source": [
    "run_on_data('newsroom_curie', newsroom, \n",
    "    lambda t: run_openai(t, NEWSROOM_PROMPT_POST, pre=False, engine=CURIE))"
   ]
  },
  {
   "cell_type": "code",
   "execution_count": 52,
   "metadata": {},
   "outputs": [
    {
     "name": "stderr",
     "output_type": "stream",
     "text": [
      "100%|██████████| 100/100 [04:32<00:00,  2.73s/it]\n"
     ]
    }
   ],
   "source": [
    "run_on_data('cnn_style_davinci', cnn, \n",
    "    lambda t: run_openai(t, CNN_PROMPT_STYLE_POST, pre=False, engine=DAVINCI, temperature=0.9))"
   ]
  },
  {
   "cell_type": "code",
   "execution_count": 53,
   "metadata": {},
   "outputs": [
    {
     "name": "stderr",
     "output_type": "stream",
     "text": [
      "100%|██████████| 100/100 [02:28<00:00,  1.48s/it]\n"
     ]
    }
   ],
   "source": [
    "run_on_data('xsum_style_davinci', xsum, \n",
    "    lambda t: run_openai(t, XSUM_PROMPT_STYLE_POST, pre=False, engine=DAVINCI, temperature=0.9))"
   ]
  },
  {
   "cell_type": "code",
   "execution_count": 54,
   "metadata": {},
   "outputs": [
    {
     "name": "stderr",
     "output_type": "stream",
     "text": [
      "100%|██████████| 100/100 [04:02<00:00,  2.43s/it]\n"
     ]
    }
   ],
   "source": [
    "run_on_data('newsroom_style_davinci', newsroom, \n",
    "    lambda t: run_openai(t, NEWSROOM_PROMPT_STYLE_POST, pre=False, engine=DAVINCI, temperature=0.9))"
   ]
  },
  {
   "cell_type": "code",
   "execution_count": 55,
   "metadata": {},
   "outputs": [
    {
     "name": "stderr",
     "output_type": "stream",
     "text": [
      "100%|██████████| 100/100 [05:02<00:00,  3.02s/it]\n"
     ]
    }
   ],
   "source": [
    "run_on_data('cnn_davinci', cnn, \n",
    "    lambda t: run_openai(t, CNN_PROMPT_POST, pre=False, engine=DAVINCI))"
   ]
  },
  {
   "cell_type": "code",
   "execution_count": 56,
   "metadata": {},
   "outputs": [
    {
     "name": "stderr",
     "output_type": "stream",
     "text": [
      "100%|██████████| 100/100 [02:22<00:00,  1.42s/it]\n"
     ]
    }
   ],
   "source": [
    "run_on_data('xsum_davinci', xsum, \n",
    "    lambda t: run_openai(t, XSUM_PROMPT_POST, pre=False, engine=DAVINCI))"
   ]
  },
  {
   "cell_type": "code",
   "execution_count": null,
   "metadata": {},
   "outputs": [],
   "source": [
    "run_on_data('newsroom_davinci', newsroom, \n",
    "    lambda t: run_openai(t, NEWSROOM_PROMPT_POST, pre=False, engine=DAVINCI))"
   ]
  },
  {
   "cell_type": "code",
   "execution_count": null,
   "metadata": {},
   "outputs": [],
   "source": [
    "run_on_data('newsroom_brio', newsroom, run_brio)"
   ]
  },
  {
   "cell_type": "code",
   "execution_count": null,
   "metadata": {},
   "outputs": [],
   "source": [
    "run_on_data('xsum_brio', xsum, run_brio)"
   ]
  },
  {
   "cell_type": "code",
   "execution_count": null,
   "metadata": {},
   "outputs": [],
   "source": [
    "run_on_data('cnn_brio', cnn, run_brio_cnn)"
   ]
  },
  {
   "cell_type": "code",
   "execution_count": null,
   "metadata": {},
   "outputs": [],
   "source": [
    "run_on_data('newsroom_bart', newsroom, \n",
    "            lambda t: run_bart(t, max_length=256, min_length=30))"
   ]
  },
  {
   "cell_type": "code",
   "execution_count": null,
   "metadata": {},
   "outputs": [],
   "source": [
    "run_on_data('xsum_bart', xsum, \n",
    "            lambda t: run_bart(t, max_length=40, min_length=10))"
   ]
  },
  {
   "cell_type": "code",
   "execution_count": null,
   "metadata": {},
   "outputs": [],
   "source": [
    "run_on_data('cnn_bart', cnn, \n",
    "            lambda t: run_bart(t, max_length=20, min_length=60))"
   ]
  },
  {
   "cell_type": "code",
   "execution_count": 83,
   "metadata": {},
   "outputs": [
    {
     "data": {
      "application/vnd.jupyter.widget-view+json": {
       "model_id": "cf04367d5df64e58880daec7ab206fd8",
       "version_major": 2,
       "version_minor": 0
      },
      "text/plain": [
       "  0%|          | 0/100 [00:00<?, ?it/s]"
      ]
     },
     "metadata": {},
     "output_type": "display_data"
    }
   ],
   "source": [
    "run_on_data('xsum_eleuther1b', xsum, \n",
    "            lambda t: run_llm(t, REGULAR_SUMMARY_POST, pre=False, \n",
    "                              max_new_tokens=60))"
   ]
  },
  {
   "cell_type": "code",
   "execution_count": 84,
   "metadata": {},
   "outputs": [
    {
     "data": {
      "application/vnd.jupyter.widget-view+json": {
       "model_id": "d95c900f026f4817b0899e61e8cc3288",
       "version_major": 2,
       "version_minor": 0
      },
      "text/plain": [
       "  0%|          | 0/100 [00:00<?, ?it/s]"
      ]
     },
     "metadata": {},
     "output_type": "display_data"
    }
   ],
   "source": [
    "run_on_data('cnn_eleuther1b', cnn, \n",
    "            lambda t: run_llm(t, REGULAR_SUMMARY_POST, pre=False, \n",
    "                              max_new_tokens=100))"
   ]
  },
  {
   "cell_type": "code",
   "execution_count": 85,
   "metadata": {},
   "outputs": [
    {
     "data": {
      "application/vnd.jupyter.widget-view+json": {
       "model_id": "689a53063c354deb9bdc526caa3f0cc2",
       "version_major": 2,
       "version_minor": 0
      },
      "text/plain": [
       "  0%|          | 0/100 [00:00<?, ?it/s]"
      ]
     },
     "metadata": {},
     "output_type": "display_data"
    }
   ],
   "source": [
    "run_on_data('newsroom_eleuther1b', newsroom, \n",
    "            lambda t: run_llm(t, REGULAR_SUMMARY_POST, pre=False, \n",
    "                              max_new_tokens=100))"
   ]
  },
  {
   "cell_type": "code",
   "execution_count": null,
   "metadata": {},
   "outputs": [],
   "source": []
  }
 ],
 "metadata": {
  "kernelspec": {
   "display_name": "Python 3",
   "language": "python",
   "name": "python3"
  },
  "language_info": {
   "codemirror_mode": {
    "name": "ipython",
    "version": 3
   },
   "file_extension": ".py",
   "mimetype": "text/x-python",
   "name": "python",
   "nbconvert_exporter": "python",
   "pygments_lexer": "ipython3",
   "version": "3.8.5"
  }
 },
 "nbformat": 4,
 "nbformat_minor": 4
}
