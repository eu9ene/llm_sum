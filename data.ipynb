{
 "cells": [
  {
   "cell_type": "code",
   "execution_count": 110,
   "metadata": {},
   "outputs": [],
   "source": [
    "from datasets import load_dataset\n",
    "import random\n",
    "import json"
   ]
  },
  {
   "cell_type": "code",
   "execution_count": 33,
   "metadata": {},
   "outputs": [],
   "source": [
    "random.seed(12345)"
   ]
  },
  {
   "cell_type": "code",
   "execution_count": 8,
   "metadata": {},
   "outputs": [],
   "source": [
    "# !pip install datasets"
   ]
  },
  {
   "cell_type": "code",
   "execution_count": 3,
   "metadata": {},
   "outputs": [
    {
     "name": "stderr",
     "output_type": "stream",
     "text": [
      "Found cached dataset xsum (/Users/epavlov/.cache/huggingface/datasets/xsum/default/1.2.0/082863bf4754ee058a5b6f6525d0cb2b18eadb62c7b370b095d1364050a52b71)\n"
     ]
    }
   ],
   "source": [
    "xsum = load_dataset(\"xsum\", split=\"test\")"
   ]
  },
  {
   "cell_type": "code",
   "execution_count": 4,
   "metadata": {},
   "outputs": [
    {
     "data": {
      "text/plain": [
       "11334"
      ]
     },
     "execution_count": 4,
     "metadata": {},
     "output_type": "execute_result"
    }
   ],
   "source": [
    "len(xsum)"
   ]
  },
  {
   "cell_type": "code",
   "execution_count": 5,
   "metadata": {},
   "outputs": [
    {
     "data": {
      "text/plain": [
       "{'document': 'Prison Link Cymru had 1,099 referrals in 2015-16 and said some ex-offenders were living rough for up to a year before finding suitable accommodation.\\nWorkers at the charity claim investment in housing would be cheaper than jailing homeless repeat offenders.\\nThe Welsh Government said more people than ever were getting help to address housing problems.\\nChanges to the Housing Act in Wales, introduced in 2015, removed the right for prison leavers to be given priority for accommodation.\\nPrison Link Cymru, which helps people find accommodation after their release, said things were generally good for women because issues such as children or domestic violence were now considered.\\nHowever, the same could not be said for men, the charity said, because issues which often affect them, such as post traumatic stress disorder or drug dependency, were often viewed as less of a priority.\\nAndrew Stevens, who works in Welsh prisons trying to secure housing for prison leavers, said the need for accommodation was \"chronic\".\\n\"There\\'s a desperate need for it, finding suitable accommodation for those leaving prison there is just a lack of it everywhere,\" he said.\\n\"It could take six months to a year, without a lot of help they could be on the streets for six months.\\n\"When you think of the consequences of either being on the street, especially with the cold weather at the moment or you may have a roof over your head, sometimes there is only one choice.\"\\nMr Stevens believes building more one-bedroom flats could help ease the problem.\\n\"The average price is a hundred pounds a week to keep someone in a rented flat, prison is a lot more than that so I would imagine it would save the public purse quite a few pounds,\" he said.\\nOfficial figures show 830 one-bedroom properties were built in the year to March 2016, of an overall total of 6,900 new properties in Wales.\\nMarc, 50, who has been in and out of prison for the past 20 years for burglary offences, said he struggled to find accommodation each time he was released.\\nHe said he would ask himself: \"Where am I going to stay? Where am I going to live? Have I got somewhere where I can see my daughter.\"\\n\"You\\'re put out among the same sort of people doing the same sort of thing, and it\\'s difficult, it\\'s difficult to get away from it. It\\'s like every man for himself, there\\'s nothing.\"\\nMarc has now found stable accommodation with homeless charity Emmaus and said it had been life changing.\\n\"You feel safe, you got hot food, you\\'ve got company of people in similar situations to yourself but all dealing with different issues. It\\'s a constructive, helpful atmosphere,\" he said.\\nTom Clarke, chief executive of Emmaus South Wales, agreed there was not enough support available.\\n\"We do still see [people] homeless on the streets, so clearly they haven\\'t got accommodation and haven\\'t got provision,\" he said.\\n\"I think the key is connecting people with the services they need. I don\\'t delude myself that Emmaus can offer a one size fits all for everyone, we can\\'t.\\n\"But there must be other opportunities and given suitable encouragement I believe that can and should happen.\"\\nA Welsh Government spokesman said the national pathway for homeless services to children, young people and adults in the secure estate had prevented many people from losing their home whilst serving their prison sentence.\\nIt added there were already significant demands for one-bedroom flats across the public and private sector and it was providing 20,000 new affordable homes in the next five years.',\n",
       " 'summary': 'There is a \"chronic\" need for more housing for prison leavers in Wales, according to a charity.',\n",
       " 'id': '38264402'}"
      ]
     },
     "execution_count": 5,
     "metadata": {},
     "output_type": "execute_result"
    }
   ],
   "source": [
    "xsum[0]"
   ]
  },
  {
   "cell_type": "code",
   "execution_count": 6,
   "metadata": {},
   "outputs": [
    {
     "name": "stderr",
     "output_type": "stream",
     "text": [
      "Found cached dataset cnn_dailymail (/Users/epavlov/.cache/huggingface/datasets/cnn_dailymail/3.0.0/3.0.0/1b3c71476f6d152c31c1730e83ccb08bcf23e348233f4fcc11e182248e6bf7de)\n"
     ]
    }
   ],
   "source": [
    "cnn = load_dataset(\"cnn_dailymail\", '3.0.0', split=\"test\")"
   ]
  },
  {
   "cell_type": "code",
   "execution_count": 7,
   "metadata": {},
   "outputs": [
    {
     "data": {
      "text/plain": [
       "11490"
      ]
     },
     "execution_count": 7,
     "metadata": {},
     "output_type": "execute_result"
    }
   ],
   "source": [
    "len(cnn)"
   ]
  },
  {
   "cell_type": "code",
   "execution_count": 8,
   "metadata": {},
   "outputs": [
    {
     "data": {
      "text/plain": [
       "{'article': '(CNN)The Palestinian Authority officially became the 123rd member of the International Criminal Court on Wednesday, a step that gives the court jurisdiction over alleged crimes in Palestinian territories. The formal accession was marked with a ceremony at The Hague, in the Netherlands, where the court is based. The Palestinians signed the ICC\\'s founding Rome Statute in January, when they also accepted its jurisdiction over alleged crimes committed \"in the occupied Palestinian territory, including East Jerusalem, since June 13, 2014.\" Later that month, the ICC opened a preliminary examination into the situation in Palestinian territories, paving the way for possible war crimes investigations against Israelis. As members of the court, Palestinians may be subject to counter-charges as well. Israel and the United States, neither of which is an ICC member, opposed the Palestinians\\' efforts to join the body. But Palestinian Foreign Minister Riad al-Malki, speaking at Wednesday\\'s ceremony, said it was a move toward greater justice. \"As Palestine formally becomes a State Party to the Rome Statute today, the world is also a step closer to ending a long era of impunity and injustice,\" he said, according to an ICC news release. \"Indeed, today brings us closer to our shared goals of justice and peace.\" Judge Kuniko Ozaki, a vice president of the ICC, said acceding to the treaty was just the first step for the Palestinians. \"As the Rome Statute today enters into force for the State of Palestine, Palestine acquires all the rights as well as responsibilities that come with being a State Party to the Statute. These are substantive commitments, which cannot be taken lightly,\" she said. Rights group Human Rights Watch welcomed the development. \"Governments seeking to penalize Palestine for joining the ICC should immediately end their pressure, and countries that support universal acceptance of the court\\'s treaty should speak out to welcome its membership,\" said Balkees Jarrah, international justice counsel for the group. \"What\\'s objectionable is the attempts to undermine international justice, not Palestine\\'s decision to join a treaty to which over 100 countries around the world are members.\" In January, when the preliminary ICC examination was opened, Israeli Prime Minister Benjamin Netanyahu described it as an outrage, saying the court was overstepping its boundaries. The United States also said it \"strongly\" disagreed with the court\\'s decision. \"As we have said repeatedly, we do not believe that Palestine is a state and therefore we do not believe that it is eligible to join the ICC,\" the State Department said in a statement. It urged the warring sides to resolve their differences through direct negotiations. \"We will continue to oppose actions against Israel at the ICC as counterproductive to the cause of peace,\" it said. But the ICC begs to differ with the definition of a state for its purposes and refers to the territories as \"Palestine.\" While a preliminary examination is not a formal investigation, it allows the court to review evidence and determine whether to investigate suspects on both sides. Prosecutor Fatou Bensouda said her office would \"conduct its analysis in full independence and impartiality.\" The war between Israel and Hamas militants in Gaza last summer left more than 2,000 people dead. The inquiry will include alleged war crimes committed since June. The International Criminal Court was set up in 2002 to prosecute genocide, crimes against humanity and war crimes. CNN\\'s Vasco Cotovio, Kareem Khadder and Faith Karimi contributed to this report.',\n",
       " 'highlights': 'Membership gives the ICC jurisdiction over alleged crimes committed in Palestinian territories since last June .\\nIsrael and the United States opposed the move, which could open the door to war crimes investigations against Israelis .',\n",
       " 'id': 'f001ec5c4704938247d27a44948eebb37ae98d01'}"
      ]
     },
     "execution_count": 8,
     "metadata": {},
     "output_type": "execute_result"
    }
   ],
   "source": [
    "cnn[0]"
   ]
  },
  {
   "cell_type": "code",
   "execution_count": 18,
   "metadata": {},
   "outputs": [
    {
     "name": "stderr",
     "output_type": "stream",
     "text": [
      "Found cached dataset json (/Users/epavlov/.cache/huggingface/datasets/json/default-aa391e6434ab9edf/0.0.0/0f7e3662623656454fcd2b650f34e886a7db4b9104504885bd462096cc7a9f51)\n"
     ]
    },
    {
     "data": {
      "application/vnd.jupyter.widget-view+json": {
       "model_id": "e798fb2eda75491bb69bfbc70c2a7b25",
       "version_major": 2,
       "version_minor": 0
      },
      "text/plain": [
       "  0%|          | 0/1 [00:00<?, ?it/s]"
      ]
     },
     "metadata": {},
     "output_type": "display_data"
    }
   ],
   "source": [
    "# download from https://lil.nlp.cornell.edu/newsroom/index.html\n",
    "newsroom = load_dataset('json', data_files='/Users/epavlov/scpd/cs224u_project/data/release/test.jsonl')['train']"
   ]
  },
  {
   "cell_type": "code",
   "execution_count": 19,
   "metadata": {},
   "outputs": [
    {
     "data": {
      "text/plain": [
       "108862"
      ]
     },
     "execution_count": 19,
     "metadata": {},
     "output_type": "execute_result"
    }
   ],
   "source": [
    "len(newsroom)"
   ]
  },
  {
   "cell_type": "code",
   "execution_count": 20,
   "metadata": {},
   "outputs": [
    {
     "data": {
      "text/plain": [
       "{'url': 'http://www.nydailynews.com/archives/news/1995/10/14/1995-10-14_selena_s_last_cries___shot_s.html',\n",
       " 'archive': 'http://web.archive.org/web/20090428161725id_/http://www.nydailynews.com:80/archives/news/1995/10/14/1995-10-14_selena_s_last_cries___shot_s.html',\n",
       " 'title': \"SELENA'S LAST CRIES SHOT SINGER BEGGED HELP, NAMED SUSPECT\",\n",
       " 'date': '20090428161725',\n",
       " 'text': 'By MATT SCHWARTZ in Houston and WENDELL JAMIESON in New York Daily News Writers\\n\\nSaturday, October 14th 1995, 4:22AM\\n\\nBleeding from a massive chest wound, Tejano star Selena cried, \"Help me! Help me! I\\'ve been shot!\" and then named her killer with her dying breath.\\n\\nShaken witnesses yesterday told a spellbound Houston courtroom how the blood-covered, mortally wounded 23-year-old Hispanic singing sensation burst into the lobby of the Corpus Christi Days Inn last March 31.\\n\\nGasping for breath, Selena told motel workers that Yolanda Saldivar the president of her fan club shot her once in the back. She begged, \"Close the door or she will shoot me again,\" the witnesses said.\\n\\nThe testimony came on the third day of Saldivar\\'s trial on charges she murdered Selena with a shot from a .38-caliber revolver when the star tried to fire her for embezzling $30,000 from two boutiques she managed for the singer.\\n\\nAs a paramedic and motel workers recounted Selena\\'s last desperate moments, her mother, father and brother sobbed quietly. Saldivar, as she has throughout the trial, stared blankly.\\n\\nRuben Deleon, the motel\\'s sales director, said he knelt over the dying star and asked who shot her.\\n\\n\"She said \\'Yolanda Saldivar in room 158,\\' \" Deleon said.\\n\\n\"She was yelling, \\'Help me! Help me! I\\'ve been shot,\\' \" said Rosalinda Gonzalez, an assistant manager. \"I asked who shot her. She said the lady in room 158. She moaned. Her eyes rolled up.\"\\n\\nFront desk clerk Shawna Vela said she dialed 911 and took the phone with her as she kneeled over the fallen singer, asking her what happened.\\n\\n\"She said \\'Yolanda,\\' she said \\'In room 158,\\' \" Vela testified.\\n\\nThe first paramedic on the scene, Richard Fredrickson, testified that he arrived just two minutes after the call but it was already too late.\\n\\n\"The girl was covered with blood,\" he remembered. \"Blood was thick from her neck to her knees, all the way around both sides.\"\\n\\nFredrickson couldn\\'t even see the mortal wound until he cut off Selena\\'s sweatshirt. He felt for a pulse in her neck but could feel only twitching muscles, he said.\\n\\nMinutes later, as he rode in an ambulance with the now unconscious Selena, he unclenched the dying woman\\'s fist and made an ironic discovery.\\n\\n\"When I opened it, a ring fell out,\" he said. \"It was covered with blood.\"\\n\\nThe 14-karat gold and diamond ring, topped with a white-gold egg, was a gift from the Grammy winner\\'s boutique employes and Saldivar. Police have said Saldivar demanded the ring back. But before Selena could hand it over, she was shot.\\n\\nThe singer, whose full name was Selena Quintanilla Perez, was born around Easter and collected decorative eggs.\\n\\nThe defense claims Saldivar, 35, was hysterical and shot Selena by accident. Prosecutors say it was deliberate.',\n",
       " 'summary': 'Bleeding from a massive chest wound, Tejano star Selena cried, \"Help me! Help me! I\\'ve been shot!\"and then named her killer with her dying breath. Shaken witnesses yesterday told a spellbound Houston courtroom how the blood-covered, mortally wounded 23-year-old Hispanic singing sensation burst into the lobby of the Corpus Christi Days Inn last March 31. Gasping for breath, Selena told motel workers that Yolanda Saldivar the president of her fan club shot',\n",
       " 'compression': 6.9651162791,\n",
       " 'coverage': 0.988372093,\n",
       " 'density': 25.4069767442,\n",
       " 'compression_bin': 'low',\n",
       " 'coverage_bin': 'high',\n",
       " 'density_bin': 'extractive'}"
      ]
     },
     "execution_count": 20,
     "metadata": {},
     "output_type": "execute_result"
    }
   ],
   "source": [
    "newsroom[0]"
   ]
  },
  {
   "cell_type": "code",
   "execution_count": 39,
   "metadata": {},
   "outputs": [
    {
     "data": {
      "text/plain": [
       "{'abstractive', 'extractive', 'mixed'}"
      ]
     },
     "execution_count": 39,
     "metadata": {},
     "output_type": "execute_result"
    }
   ],
   "source": [
    "set(doc['density_bin'] for doc in newsroom)"
   ]
  },
  {
   "cell_type": "code",
   "execution_count": 44,
   "metadata": {},
   "outputs": [
    {
     "data": {
      "text/plain": [
       "36595"
      ]
     },
     "execution_count": 44,
     "metadata": {},
     "output_type": "execute_result"
    }
   ],
   "source": [
    "newsroom_abstractive = [doc for doc in newsroom if doc['density_bin'] == 'abstractive']\n",
    "len(xsum_abstractive)"
   ]
  },
  {
   "cell_type": "code",
   "execution_count": 45,
   "metadata": {},
   "outputs": [
    {
     "data": {
      "text/plain": [
       "{'url': 'http://www.forbes.com/2011/01/31/saudi-arabia-al-waleed-ramadan.html',\n",
       " 'archive': 'http://web.archive.org/web/20120317163958id_/http://www.forbes.com/2011/01/31/saudi-arabia-al-waleed-ramadan.html',\n",
       " 'title': 'Glimpses: Saudi Arabia, 2008',\n",
       " 'date': '20120317163958',\n",
       " 'text': 'I visited Saudi Arabia in September 2008, arriving in Riyadh the day Hurricane Ike smashed into Houston, knocking out power for my wife and two little boys. Nothing I could do about it but watch storm footage on CNN International while drinking non-alcoholic Budweiser (no booze in the kingdom) and listening to the sounds of the muzzein calling Muslims to worship at the mosque behind the Marriott.\\n\\nThat was the same month that the financial crisis hit, and on the day of Lehman Brothers\\' ( LEHMQ - news - people ) collapse I spent the evening with billionaire Prince Al-Waleed bin Talal at his camp in the desert outside of Riyadh. We sat in the open air, under a starry sky, on an expanse of Persian rugs that must have taken up a quarter-acre. He was attended by a cadre of Bedouin servants who wore little pistols in their belts and continually refilled our little china cups with strong yellow Arabian coffee. A news junkie, the prince had three mega-screen TVs set up across the island of rugs from us. The biggest one in the middle was tuned to CNBC. The others showed pilgrims in Mecca walking around the Kaaba. It was the holy month of Ramadan. As we watched coverage of the financial collapse, Al-Waleed had the awesome idea of text-messaging CNBC\\'s Maria Bartaromo his thoughts on Lehman. I think he was doing it mostly to show off that he had Maria\\'s number in his phone, and I was impressed when she responded to his text 10 minutes later and asked him to be on her show the next day.\\n\\nLater in the evening I watched in disbelief as a line of about 500 Saudi men formed in the darkness, and one by one the men came forward to pay homage to the prince and ask him for some form of charity (money for a car, tuition, dowry, debts, etc). Several young men recited poems to the prince, who all the while continued to watch TV or check his phone. He holds court like this every week, giving away millions in patronage each year. The prince spends a lot of time in the desert and says he doesn\\'t go to sleep until he sees the sky begin to brighten with dawn.\\n\\nA couple days later I found myself in the desert again, this time in the white-leather backseat of a 10-year-old Crown Victoria being driven the four hours from Riyadh to Damman, where I was to tour the headquarters of oil company Saudi Aramco. During Ramadan Saudis are barred from eating or drinking anything from sunup to sundown. But there was no prohibition on rock and roll; the driver, without comment, popped a cassette tape of Aerosmith\\'s greatest hits into the stereo, and we screamed over the pristine blacktop at 90 miles an hour. Finally, when the red ball dipped under the desert horizon, my driver pulled into a truckstop (which, other than oilfield flares and a few camels, was the only sign of life in the desert) and bought us some snacks and water. I had been abstaining from food during the day as well, in part to see how the Saudis did it, and also because there was none for sale until nightfall. A few minutes later the driver pulled off the road to pray. I sat in the parked car and ate the most delicious bag of chips ever, all the while marveling that Aerosmith\\'s \"Crazy\" was a much better song than I ever remembered. The full moon rose orange.\\n\\nRead more \"glimpses\" in our On The Road special report.',\n",
       " 'summary': 'Hurricane Ike, Ramadan and the billionaire prince.',\n",
       " 'compression': 76.8888888889,\n",
       " 'coverage': 1.0,\n",
       " 'density': 1.4444444444,\n",
       " 'compression_bin': 'high',\n",
       " 'coverage_bin': 'high',\n",
       " 'density_bin': 'abstractive'}"
      ]
     },
     "execution_count": 45,
     "metadata": {},
     "output_type": "execute_result"
    }
   ],
   "source": [
    "newsroom_abstractive[1]"
   ]
  },
  {
   "cell_type": "code",
   "execution_count": 38,
   "metadata": {},
   "outputs": [],
   "source": [
    "def fix_structure(dataset, text_field, summary_field):\n",
    "    return [{'text': doc[text_field], 'summary': doc[summary_field]} for doc in dataset]"
   ]
  },
  {
   "cell_type": "code",
   "execution_count": 66,
   "metadata": {},
   "outputs": [],
   "source": [
    "cnn_fixed = fix_structure(cnn, 'article', 'highlights')\n",
    "xsum_fixed = fix_structure(xsum, 'document', 'summary')\n",
    "newsroom_fixed = fix_structure(newsroom_abstractive, 'text', 'summary')"
   ]
  },
  {
   "cell_type": "code",
   "execution_count": 48,
   "metadata": {},
   "outputs": [],
   "source": [
    "def data_stats(dataset):\n",
    "    text_lengths = [len(doc['text'].split()) for doc in dataset]\n",
    "    sum_lengths = [len(doc['summary'].split()) for doc in dataset]\n",
    "    \n",
    "    print(f'''total docs: {len(dataset)}\n",
    "avg text length: {sum(text_lengths)/len(text_lengths)}\n",
    "max text length: {max(text_lengths)}\n",
    "min text length: {min(text_lengths)}\n",
    "avg summary length: {sum(sum_lengths)/len(sum_lengths)}\n",
    "max summary length: {max(sum_lengths)}\n",
    "min summary length: {min(sum_lengths)}''')\n",
    "    "
   ]
  },
  {
   "cell_type": "code",
   "execution_count": 49,
   "metadata": {},
   "outputs": [
    {
     "name": "stdout",
     "output_type": "stream",
     "text": [
      "total docs: 11334\n",
      "avg text length: 376.1446973707429\n",
      "max text length: 10315\n",
      "min text length: 0\n",
      "avg summary length: 21.097582495147343\n",
      "max summary length: 74\n",
      "min summary length: 2\n"
     ]
    }
   ],
   "source": [
    "data_stats(xsum_fixed)"
   ]
  },
  {
   "cell_type": "code",
   "execution_count": 50,
   "metadata": {},
   "outputs": [
    {
     "name": "stdout",
     "output_type": "stream",
     "text": [
      "total docs: 11490\n",
      "avg text length: 683.5115752828547\n",
      "max text length: 1954\n",
      "min text length: 55\n",
      "avg summary length: 55.00931244560488\n",
      "max summary length: 564\n",
      "min summary length: 9\n"
     ]
    }
   ],
   "source": [
    "data_stats(cnn_fixed)"
   ]
  },
  {
   "cell_type": "code",
   "execution_count": 67,
   "metadata": {},
   "outputs": [
    {
     "name": "stdout",
     "output_type": "stream",
     "text": [
      "total docs: 36595\n",
      "avg text length: 652.01382702555\n",
      "max text length: 51662\n",
      "min text length: 6\n",
      "avg summary length: 18.8261511135401\n",
      "max summary length: 506\n",
      "min summary length: 1\n"
     ]
    }
   ],
   "source": [
    "data_stats(newsroom_fixed)"
   ]
  },
  {
   "cell_type": "code",
   "execution_count": 80,
   "metadata": {},
   "outputs": [],
   "source": [
    "def sample_dataset(dataset, num=100, min_len=500, max_len=1000, sum_min_len=10, sum_max_len=60):\n",
    "    docs = [doc for doc in dataset if len(doc['text'].split()) <= max_len \n",
    "            and len(doc['text'].split()) >= min_len\n",
    "            and len(doc['summary'].split()) >= sum_min_len\n",
    "            and len(doc['summary'].split()) <= sum_max_len\n",
    "           ]\n",
    "    print(f'Filtering: original {len(dataset)}, filtered {len(docs)}')\n",
    "    assert len(docs) >= num\n",
    "    return random.sample(docs, num)"
   ]
  },
  {
   "cell_type": "code",
   "execution_count": 81,
   "metadata": {},
   "outputs": [
    {
     "name": "stdout",
     "output_type": "stream",
     "text": [
      "Filtering: original 11334, filtered 2308\n"
     ]
    }
   ],
   "source": [
    "xsum_sample = sample_dataset(xsum_fixed)"
   ]
  },
  {
   "cell_type": "code",
   "execution_count": 82,
   "metadata": {},
   "outputs": [
    {
     "name": "stdout",
     "output_type": "stream",
     "text": [
      "total docs: 100\n",
      "avg text length: 688.87\n",
      "max text length: 991\n",
      "min text length: 506\n",
      "avg summary length: 23.14\n",
      "max summary length: 39\n",
      "min summary length: 10\n"
     ]
    }
   ],
   "source": [
    "data_stats(xsum_sample)"
   ]
  },
  {
   "cell_type": "code",
   "execution_count": 91,
   "metadata": {},
   "outputs": [
    {
     "data": {
      "text/plain": [
       "{'text': 'Rashan Charles, 20, was wrestled to the ground in Dalston, east London, on 22 July, and died about an hour later.\\nOn Friday, clashes broke out in Hackney as protesters blocked part of Kingsland Road and set mattresses alight.\\nA spokesman for Mr Charles\\'s family said they understood the anger but called for \"dignified\" protest.\\n\"Burning down homes will not give justice,\" he said.\\nMr Charles was pursued by officers and became ill after trying to swallow an object, the Met has said.\\nHe died soon after in hospital. The Independent Police Complaints Commission is investigating.\\nPolice warned that anyone using Mr Charles\\'s death \"as an excuse to commit crime\" would be \"dealt with robustly\".\\nAppealing for calm, family spokesman Stafford Scott said: \"We understand your frustration, we understand your anger - don\\'t feel that the family doesn\\'t feel the anger and the frustration too.\\n\"But what the family knows is taking it to the streets doesn\\'t give you justice.\\n\"Burning down your own homes, burning down your neighbourhood is not going to give you justice.\"\\nMr Scott, who runs race advocacy group Tottenham Rights, said black people had historically found it difficult \"to win the hearts and minds of people\".\\n\"We get no empathy, we get no sympathy. But this case is different - for once we\\'ve got the evidence.\\n\"For once we\\'re not relying on the IPCC or the police to gather the evidence. The world has seen it and will feel it if we don\\'t get justice.\"\\nHe added the family needed to \"fight this properly\" and had sought the best legal support.\\nMr Scott said the family asked the community \"to support them in their struggle, to be dignified when they expect us to be wild\".\\nHackney North and Stoke Newington MP Diane Abbott told the protest she supported Mr Charles\\'s parents and would not rest until questions were answered.\\nIn an earlier statement, the shadow home secretary said: \"The anger and upset at the death of Rashan Charles is understandable.\\n\"But Rashan\\'s family have explicitly spoken out against hostile actions. We must respect their wishes and any protests must be peaceful.\"\\nThe anger of the protesters is clear. Many chanted \"Justice for Rashan\", clutching pictures of him along with their placards.\\nSome confronted the police officers there to keep an eye on the demonstration, demanding answers.\\nThere were none forthcoming. That\\'s because the investigation is now in the hands of the Independent Police Complaints Commission. It will be their job to determine exactly what happened.\\nSome campaigners, though, say there are too many of these investigations, too many lives being lost.\\nThey feel that their voices are too often not heard. There was much talk of the CCTV footage that captured the moment Rashan Charles was restrained.\\nThat has been pored over frame by frame, with many different interpretations of what happened, and many questions raised by it.\\nDespite the anger, the vigil passed off peacefully, but the campaigners say they will not be silenced. They left though with the words of the family ringing in their ears: \"We want peace on the streets.\"\\nOn Friday evening, demonstrators blocked part of Kingsland Road.\\nAt one point protesters, some wearing masks, jumped on to a lorry and clung to the wing mirrors as it drove through the barricade.\\nScores of missiles were later launched at police as they attempted to disperse the group.\\nPolice in Hackney tweeted: \"Officers have been subjected to abuse and violence. Whatever the frustrations, this is patently not what the family of Rashan Charles wanted.\"\\nThe Met Police has since said that the violence that erupted on Friday night was \"separate\" from a peaceful protest that was held earlier in the day.\\nDet Supt Claire Crawley said: \"Thankfully nobody was seriously injured, but there was inconvenience to local residents and road users and damage caused to vehicles, a cash machine and a number of windows.\\n\"We will always support the right to lawful protest but behaviour such as that seen last night cannot be tolerated.\"',\n",
       " 'summary': 'The family of a black man who died after being apprehended by police has appealed for peace after violent protests in the wake of his death.'}"
      ]
     },
     "execution_count": 91,
     "metadata": {},
     "output_type": "execute_result"
    }
   ],
   "source": [
    "xsum_sample[2]"
   ]
  },
  {
   "cell_type": "code",
   "execution_count": 84,
   "metadata": {},
   "outputs": [
    {
     "name": "stdout",
     "output_type": "stream",
     "text": [
      "Filtering: original 11490, filtered 3772\n"
     ]
    }
   ],
   "source": [
    "cnn_sample = sample_dataset(cnn_fixed)"
   ]
  },
  {
   "cell_type": "code",
   "execution_count": 85,
   "metadata": {},
   "outputs": [
    {
     "name": "stdout",
     "output_type": "stream",
     "text": [
      "total docs: 100\n",
      "avg text length: 704.65\n",
      "max text length: 999\n",
      "min text length: 502\n",
      "avg summary length: 44.12\n",
      "max summary length: 60\n",
      "min summary length: 22\n"
     ]
    }
   ],
   "source": [
    "data_stats(cnn_sample)"
   ]
  },
  {
   "cell_type": "code",
   "execution_count": 86,
   "metadata": {},
   "outputs": [
    {
     "data": {
      "text/plain": [
       "{'text': 'Johannesburg (CNN)He checked the series of stills on his camera. It was then that photographer James Oatway realized the entire attack had taken less than two minutes. It was the morning after a night of unrest in Johannesburg\\'s Alexandra Township that saw foreign-owned shops looted and destroyed. Mozambican Emmanuel Sithole was walking down a street when four South Africans surrounded him. Sithole pleaded for mercy, but it was already too late. The attackers bludgeoned him with a wrench, stabbed him with knives, all in broad daylight. And Oatway had captured it all on his camera. \"They looked like hardened thugs, just by their intensity, the way they moved, the expressions on their faces,\" Oatway told CNN. \"They wanted one thing and that was to kill Emmanuel. They wanted his blood and nothing was going to stop them from doing that.\" Oatway says he tried to get as close as possible, conscious that the attackers were aware of his presence. \"When the attack started I was 20 meters (65 feet) away, but at one point I was 4 or 5 meters away,\" he said. \"I did think that maybe they would leave him alone.\" The attackers finally did move on and leave Sithole alone. Oatway and his fellow journalist Beauregard Tromp quickly put the injured man in the back of the car and rushed him to a hospital, where he later died. \"I still remember him looking straight into my eyes,\" said Oatway. \"He had a kind of a dazed, shocked look in his face.\" Oatway\\'s series of images of the ordeal landed on the front page of South Africa\\'s Sunday Times under the headline, \"Kill thy neighbor: Alex attack brings home SA\\'s shame.\" It\\'s a shame that South Africa continues to confront. Seven people have been killed in the latest round of xenophobic violence against poorer immigrants, many from South Africa\\'s neighbors. Xenophobic attacks: How did we get here? Local media alleged that the attacks were a consequence of Zulu King Goodwill Zwelithini reportedly saying at a recent gathering that foreigners \"should pack their bags and go\" because they are taking jobs from citizens. Shortly after his reported comments, violence against immigrants erupted in the port city of Durban. But on Monday, Zwelithini said he had not called for a war on immigrants. \"This war I am calling for today is to protect everyone of foreign origin in this country irrespective of which country they are from.\" The United Nations said the attacks actually began in March after a labor dispute between citizens and foreign workers. OPINION: Labeling South Africa violence as xenophobia misses the point . But it was Oatway\\'s photos of the violent attack on Sithole that have seemingly encapsulated the true horror of the situation -- and South Africa\\'s leaders have begun to take notice. \"Terrible picture. People who live in rough townships have never seen such a scene,\" said President Jacob Zuma about the photos in a televised news conference. \"And I was sitting and I was saying to myself, what are we telling the world about ourselves?\" Police announced they\\'ve now arrested all four suspects -- the last caught overnight Tuesday -- with help from Oatway\\'s photos, which is little solace for the photographer who captured a level of depravity rarely seen. \"I\\'m sickened by it,\" said Oatway. \"And I\\'m extremely angry, angry with the men that did this, and ultimately I\\'m upset that our efforts weren\\'t successful in saving Emmanuel\\'s life.\"',\n",
       " 'summary': \"Photographer James Oatway captured a violent attack that resulted in death of a Mozambican in South Africa .\\nSeven people have been killed in recent violence against poorer immigrants, many from South Africa's neighbors .\"}"
      ]
     },
     "execution_count": 86,
     "metadata": {},
     "output_type": "execute_result"
    }
   ],
   "source": [
    "cnn_sample[0]"
   ]
  },
  {
   "cell_type": "code",
   "execution_count": 103,
   "metadata": {},
   "outputs": [
    {
     "name": "stdout",
     "output_type": "stream",
     "text": [
      "Filtering: original 36595, filtered 1120\n"
     ]
    }
   ],
   "source": [
    "newsroom_sample = sample_dataset(newsroom_fixed, sum_min_len=30) # find longer summaries"
   ]
  },
  {
   "cell_type": "code",
   "execution_count": 104,
   "metadata": {},
   "outputs": [
    {
     "name": "stdout",
     "output_type": "stream",
     "text": [
      "total docs: 100\n",
      "avg text length: 717.94\n",
      "max text length: 995\n",
      "min text length: 507\n",
      "avg summary length: 36.48\n",
      "max summary length: 56\n",
      "min summary length: 30\n"
     ]
    }
   ],
   "source": [
    "data_stats(newsroom_sample)"
   ]
  },
  {
   "cell_type": "code",
   "execution_count": 105,
   "metadata": {},
   "outputs": [
    {
     "data": {
      "text/plain": [
       "{'text': 'The cause was complications of pneumonia, his daughter Elizabeth Cahill Tiedemann said.\\n\\nDr. Cahill and generations of researchers he trained “wrote a lot of what have become the textbooks of physiology,” explaining glucose and protein metabolism both in normal health and in diabetes, said Dr. C. Ronald Kahn, the chief academic officer at the Joslin Diabetes Center in Boston, where Dr. Cahill was research director from 1962 to 1978.\\n\\nAmong his research subjects were divinity students who were paid $300 to fast for a week and hibernating bears. Some of his most important research, in the 1960s, involved tracking the blood chemistry of people who were trying out an experimental treatment for severe obesity: total starvation, for up to six weeks, in the hospital.\\n\\nA crucial finding was that in the first few days without food, the liver starts breaking down protein to make glucose to feed the brain. But using protein as fuel can be perilous, because it is the stuff of vital organs and muscle.\\n\\nBut people do survive weeks of starvation. Dr. Cahill’s study helped explain why. After about a week, the body makes another shift, and instead of cannibalizing its own proteins it starts breaking down fat into substances called ketones, which can feed the brain in place of glucose. A natural drop in insulin is what drives the shift to ketones, Dr. Cahill determined.\\n\\nThe studies transformed scientists’ understanding of starvation and the way insulin regulates metabolism, said Dr. Joseph Avruch, a professor of medicine at the Harvard Medical School.\\n\\nOn a practical level, the findings helped establish the importance of dietary protein to prevent organ damage in people who are on very low-calorie diets or who are ill or injured and not able to eat normally, said Dr. Rudolph Leibel, co-director of the Naomi Berrie Diabetes Center at Columbia University Medical Center.\\n\\nIn addition, Dr. Kahn said, Dr. Cahill helped the military formulate high-energy bars for emergency rations.\\n\\nIn 1982 and 1985, Dr. Cahill was called as an expert witness for the prosecution in the two trials of Mr. von Bülow for the attempted murder of his wife, Martha (also known as Sunny). Mrs. von Bülow was in a deep coma, possibly caused by extremely low blood sugar. Her husband was accused of trying to kill her with insulin, which lowers blood sugar.\\n\\nDr. Cahill reviewed more than two years of her medical records and testified at the first trial that her coma, and a prior one from which she had recovered, were caused by insulin. The insulin level in her blood, he told the court, was “out of the ballpark.”\\n\\nIn the first trial, Mr. von Bülow was found guilty and sentenced to 30 years in prison. He appealed, the conviction was overturned, and he was tried again.\\n\\nAt the second trial, Dr. Cahill showed up with a pocket full of sugar cubes, which he lined up on the witness stand to help explain his points. He testified that insulin was the only plausible explanation for Mrs. von Bülow’s coma, but the defense lawyer challenged him repeatedly.\\n\\nFinally, Dr. Cahill said, “It is so difficult for me to answer inane questions.”\\n\\nMr. von Bülow was acquitted at the second trial.\\n\\nDr. Cahill was disappointed, Dr. Kahn said, adding, “I think he felt justice had not been done.”\\n\\nMrs. von Bülow died in 2008, at 76, after nearly 28 years in a coma.\\n\\nGeorge Francis Cahill Jr. was born in Manhattan on July 7, 1927. His father was a urologic surgeon at the Columbia College of Physicians and Surgeons. George Jr. attended the Hotchkiss School in Lakeville, Conn., and entered Yale at 16.\\n\\nAt 17 he enlisted in the Navy as a pharmacist’s mate and was scheduled to take part in the invasion of Japan, but the atomic bombing of Hiroshima and Nagasaki changed that.\\n\\nAfter the war he finished college at Yale, and in 1953 he graduated from medical school at Columbia.\\n\\nHe went on to become a professor of medicine at Harvard, and taught there until retiring in 1990. From 1958 until 1978 he also did research at the Joslin center, and from 1962 until 1990 he was a researcher and administrator for the Howard Hughes Medical Institute, which supports medical research.\\n\\nBesides Ms. Tiedemann, Dr. Cahill is survived by three other daughters, Colleen Cahill Remley, Sarah Rhett Cahill and Eva Wagner Cahill; two sons, Peter duPont Cahill and George F. Cahill III; and 15 grandchildren. His wife of 60 years, the former Sarah duPont, died in 2010.\\n\\nIn an online article, Dr. Kahn called Dr. Cahill a “consummate teacher” and said that when he retired from medicine he began teaching a biology course for nonscientists at Dartmouth College that was an overnight success.\\n\\nWithin days of Dr. Cahill’s first lecture, the class had to be moved from a room that held 100 to an auditorium that seated more than 400.',\n",
       " 'summary': 'Dr. Cahill clarified insulinâ\\x80\\x99s role in metabolism by studying research subjects on starvation diets, and he testified at Claus von BÃ¼lowâ\\x80\\x99s trials that he had tried to murder his wife with insulin.'}"
      ]
     },
     "execution_count": 105,
     "metadata": {},
     "output_type": "execute_result"
    }
   ],
   "source": [
    "newsroom_sample[0]"
   ]
  },
  {
   "cell_type": "code",
   "execution_count": 98,
   "metadata": {},
   "outputs": [],
   "source": [
    "def summary_examples(dataset):\n",
    "    print('\\n'.join([doc['summary'].replace('\\n', ' ') for doc in random.sample(dataset, 10)]))"
   ]
  },
  {
   "cell_type": "code",
   "execution_count": 99,
   "metadata": {},
   "outputs": [
    {
     "name": "stdout",
     "output_type": "stream",
     "text": [
      "Eleven Egyptian football fans face the death penalty over a riot in 2012 . Clashes after a match in Port Said left 74 dead and sparked more protests . Appeals courts last year ordered retrial after 21 fans given death sentence . Two of the 11 supporters given the death penalty today are still on the run .\n",
      "Thibaut Courtois was superb in Chelsea's goal with a number of key saves . Cesar Azpilicueta and John Terry impressed at the back for QPR . Charlie Austin caused problems and was brilliantly denied by Courtois .\n",
      "The teardrop-shaped island was ravaged by the tsunami in 2004 . The holiday industry there is recovered and expanding with new hotels . See the Uda Walawe nature reserve elephants and tea plantations in Kandy .\n",
      "Samantha Cameron recently spoke of her love of alternative group Poliça . Rock band's latest album is inspired by feminist Shulamith Firestone . Mrs Cameron even joined crowd at a recent gig in Shoreditch, East London .\n",
      "Photographer James Oatway captured a violent attack that resulted in death of a Mozambican in South Africa . Seven people have been killed in recent violence against poorer immigrants, many from South Africa's neighbors .\n",
      "Mindy Kaling's brother Vijay Chokalingam pretended to be black to get into med school . Jeff Yang: That's offensive and ironic, considering that minorities experience many disadvantages .\n",
      "Daniel Williams’ video shows a every aspect of a day in the life of an office worker . The 90 second clip has been viewed three million times on YouTube . GoPros are often used by adrenaline junkies to capture once-in-a-lifetime experiences .\n",
      "Princess, 25, spotted in bowler hat on streets of New York . Carried shopping bag from Intermix - a designer brand store . Cousin of Princes William and Harry is working at auction house in city .\n",
      "Radical claim was made by 58-year-old Canadian, Andre Gignac . Spotted 'bunker' in an image taken by the Nasa rover Opportunity . 'You can see a person behind the bunker's window,' Gignac claims . Nasa expert says the 'bunker' is simply effect of shadows in the image .\n",
      "Chelsea are poised to join Arsenal  in the hunt for Raheem Sterling . Manchester City are also interested in the 20-year-old Liverpool star . Brendan Rodgers said Reds winger is 'going nowhere' this summer .\n"
     ]
    }
   ],
   "source": [
    "summary_examples(cnn_sample)"
   ]
  },
  {
   "cell_type": "code",
   "execution_count": 100,
   "metadata": {},
   "outputs": [
    {
     "name": "stdout",
     "output_type": "stream",
     "text": [
      "Traitors, jackals and vile liberals are just a few of the choice descriptions of Russia's opposition emerging from Chechnya in recent days, in a war of words that threatens to escalate.\n",
      "The Scottish Steel Task Force meets for the first time on Thursday following the announcement that steel firm Tata is to close its two plants in Scotland with the loss of 270 jobs.\n",
      "The pancreas can be triggered to regenerate itself through a type of fasting diet, say US researchers.\n",
      "Jupiter's Great Red Spot - a hurricane three times bigger than Earth - is blasting the planet's upper atmosphere with heat, astronomers have found.\n",
      "A mother campaigning for a life-extending breast cancer drug to be made available on the NHS has said it seems \"barbaric\" to deny women the treatment.\n",
      "Jayaram Jayalalitha was one of India's most colourful and controversial politicians, adored by some and condemned by others.\n",
      "The family of a black man who died after being apprehended by police has appealed for peace after violent protests in the wake of his death.\n",
      "Relatives of the 10 people who died in the Clutha helicopter tragedy in Glasgow have been told fuel switches were in the off position when they should have been on.\n",
      "Leeds United dropped out of the Championship play-off places as Wolves clinched a narrow win at Elland Road.\n",
      "David Cameron was \"wilfully dishonest\" when he pledged to cap immigration to the tens of thousands, UKIP leader Nigel Farage has said.\n"
     ]
    }
   ],
   "source": [
    "summary_examples(xsum_sample)"
   ]
  },
  {
   "cell_type": "code",
   "execution_count": 101,
   "metadata": {},
   "outputs": [
    {
     "name": "stdout",
     "output_type": "stream",
     "text": [
      "Lost ballot papers, faulty electronic counting machines and election lawsuits    - not the famous Florida recount of 2000 but a local election still    unresolved after two months.\n",
      "Your World w/ Cavuto on FoxNews.com - follow Neil Cavuto on Weekdays at 4:00 PM ET\n",
      "Dwy farn am Gymro blaenllaw gafodd ei ladd ym mrwydr Waterloo\n",
      "Is there \"disturbing differences in what men want in their wives and their daughters\"?\n",
      "A Roman Catholic dioceseâs modernization efforts for the Crystal Cathedral include digging up inscribed granite stones purchased by churchgoers.\n",
      "Next year, San Francisco will host the Americaâs Cup. But you donât have to wait until then to taste the experience â and some sea spray â yourself.\n",
      "After becoming bored with his food services company, a hobbyist became a pioneer in Napa Valley, creating Chappellet Vineyard, now known for its cabernets.\n",
      "Fix these common mistakes so that you don't miss out on opportunities.\n",
      "Clownfish have a reputation as zany little personalities. The truth is more remarkable than even Disney films make out\n",
      "Obama’s snub of his Kenyan fatherland in his current trip to Africa exemplifies how overall U.S. policy toward the continent is failing.\n"
     ]
    }
   ],
   "source": [
    "summary_examples(newsroom_sample)"
   ]
  },
  {
   "cell_type": "code",
   "execution_count": 109,
   "metadata": {},
   "outputs": [
    {
     "name": "stdout",
     "output_type": "stream",
     "text": [
      "An ex-employee of a real estate company shot his former boss in the head Thursday afternoon in Los Angeles, according to police. The victim, who has not been named, was in a critical condition in a hospital Thursday. The shooting happened at Venture Commercial Realty on the four …\n",
      "On Faith is an innovative, provocative conversation on all aspects of religion with best selling author Jon Meacham of Newsweek and Sally Quinn of The Washington Post.  Keep up-to-date on global religious developments with On Faith.\n",
      "With only a day left in what will be a historic final flight for American space shuttles, the four astronauts aboard Atlantis shared parting thoughts on what it means to rely on the Russians, what NASA needs to do moving forward, and their favorite wake-up song.\n",
      "Get style news headlines from The Washington Post, including entertainment news, comics, horoscopes, crossword, TV, Dear Abby.  arts/theater, Sunday Source and weekend section.  Washington Post columnists, movie/book reviews, Carolyn Hax, Tom Shales.\n",
      "Roger Federer’s record of 65 successive grand slam appearances could be ended by the back injury that not only threatens his place at Roland Garros but reminds us he cannot go on for ever\n",
      "A group of exchange students sponsored by the State Department spent thousands of dollars to experience life in the United States, but what they got were arduous shifts in a factory and no help when they complained.\n",
      "Wrestling has moved from dank high-school gymnasiums to the beach. Beyond injecting sex appeal into the traditional sport, the hope is to recruit the next generation of athletes and attract larger audiences.\n",
      "USSURIYSK, Russia -- As a young officer fresh out of a Soviet military academy, Alexander Primak was assigned to serve in this frontier city in the Russian Far East, eight time zones away from his home town in Ukraine.\n",
      "The 85-year-old baseball cathedral synonymous with the game's biggest names and iconic moments dims its lights for good this weekend amid a flood of memories mixed with sadness and disappointment.\n",
      "Faced with losing their paychecks if they forfeit, injured players opt to take the court, if only for a while. Diatchenko, for instance, earned $39,500 for being a first-round loser at the U.S. Open.\n"
     ]
    }
   ],
   "source": [
    "summary_examples(newsroom_sample) "
   ]
  },
  {
   "cell_type": "code",
   "execution_count": 140,
   "metadata": {},
   "outputs": [],
   "source": [
    "def fix_chars_str(str):\n",
    "    return str.replace('\\n', ' ').replace(' .', '.').replace('  ', ' ')\n",
    "\n",
    "def fix_chars(dataset):\n",
    "    return [{'text': fix_chars_str(doc['text']), 'summary': fix_chars_str(doc['summary'])}  for doc in dataset]\n",
    "            \n",
    "cnn_sample_fixed = fix_chars(cnn_sample)\n",
    "xsum_sample_fixed = fix_chars(xsum_sample)\n",
    "newsroom_sample_fixed = fix_chars(newsroom_sample)\n",
    "    "
   ]
  },
  {
   "cell_type": "code",
   "execution_count": 141,
   "metadata": {},
   "outputs": [
    {
     "name": "stdout",
     "output_type": "stream",
     "text": [
      "{'text': 'Johannesburg (CNN)He checked the series of stills on his camera. It was then that photographer James Oatway realized the entire attack had taken less than two minutes. It was the morning after a night of unrest in Johannesburg\\'s Alexandra Township that saw foreign-owned shops looted and destroyed. Mozambican Emmanuel Sithole was walking down a street when four South Africans surrounded him. Sithole pleaded for mercy, but it was already too late. The attackers bludgeoned him with a wrench, stabbed him with knives, all in broad daylight. And Oatway had captured it all on his camera. \"They looked like hardened thugs, just by their intensity, the way they moved, the expressions on their faces,\" Oatway told CNN. \"They wanted one thing and that was to kill Emmanuel. They wanted his blood and nothing was going to stop them from doing that.\" Oatway says he tried to get as close as possible, conscious that the attackers were aware of his presence. \"When the attack started I was 20 meters (65 feet) away, but at one point I was 4 or 5 meters away,\" he said. \"I did think that maybe they would leave him alone.\" The attackers finally did move on and leave Sithole alone. Oatway and his fellow journalist Beauregard Tromp quickly put the injured man in the back of the car and rushed him to a hospital, where he later died. \"I still remember him looking straight into my eyes,\" said Oatway. \"He had a kind of a dazed, shocked look in his face.\" Oatway\\'s series of images of the ordeal landed on the front page of South Africa\\'s Sunday Times under the headline, \"Kill thy neighbor: Alex attack brings home SA\\'s shame.\" It\\'s a shame that South Africa continues to confront. Seven people have been killed in the latest round of xenophobic violence against poorer immigrants, many from South Africa\\'s neighbors. Xenophobic attacks: How did we get here? Local media alleged that the attacks were a consequence of Zulu King Goodwill Zwelithini reportedly saying at a recent gathering that foreigners \"should pack their bags and go\" because they are taking jobs from citizens. Shortly after his reported comments, violence against immigrants erupted in the port city of Durban. But on Monday, Zwelithini said he had not called for a war on immigrants. \"This war I am calling for today is to protect everyone of foreign origin in this country irrespective of which country they are from.\" The United Nations said the attacks actually began in March after a labor dispute between citizens and foreign workers. OPINION: Labeling South Africa violence as xenophobia misses the point. But it was Oatway\\'s photos of the violent attack on Sithole that have seemingly encapsulated the true horror of the situation -- and South Africa\\'s leaders have begun to take notice. \"Terrible picture. People who live in rough townships have never seen such a scene,\" said President Jacob Zuma about the photos in a televised news conference. \"And I was sitting and I was saying to myself, what are we telling the world about ourselves?\" Police announced they\\'ve now arrested all four suspects -- the last caught overnight Tuesday -- with help from Oatway\\'s photos, which is little solace for the photographer who captured a level of depravity rarely seen. \"I\\'m sickened by it,\" said Oatway. \"And I\\'m extremely angry, angry with the men that did this, and ultimately I\\'m upset that our efforts weren\\'t successful in saving Emmanuel\\'s life.\"', 'summary': \"Photographer James Oatway captured a violent attack that resulted in death of a Mozambican in South Africa. Seven people have been killed in recent violence against poorer immigrants, many from South Africa's neighbors.\"}\n"
     ]
    }
   ],
   "source": [
    "print(cnn_sample_fixed[0])"
   ]
  },
  {
   "cell_type": "code",
   "execution_count": 142,
   "metadata": {},
   "outputs": [
    {
     "name": "stdout",
     "output_type": "stream",
     "text": [
      "The Pet Rock creator has died from chronic obstructive pulmonary disease. He made millions from absurd idea to sell a stone in a box as a 'Pet Rock' The product came with tongue-in-cheek instructions for 'care and feeding' He went on to author the self help book 'Advertising for Dummies'\n",
      "Harley Renshaw has been given the all clear after battling cancer for a year. Disease was in his kidney and has spread to bones, neck and left lung. He underwent months of gruelling chemotherapy and radiotherapy. Made himself a superhero outfit to help him feel brave during treatment.\n",
      "Mr Shatner revealed his radical proposal in an interview with Yahoo News. He wants to build a 4ft-wide pipeline from Seattle down to California. This would bring water to help alleviate some of the drought problems. But some experts have called his $30 billion idea 'highly illogical'\n",
      "Mindy Kaling's brother Vijay Chokalingam pretended to be black to get into med school. Jeff Yang: That's offensive and ironic, considering that minorities experience many disadvantages.\n",
      "Craig Roberts, 36, went to Chadderton Post Office to top up electric meter. But staff said he would not be served unless he left his guide dog outside. Mr Roberts was born with glaucoma and has 30 per cent vision in one eye. He was eventually served after a ten minute standoff with an employee.\n",
      "Twin sister of Freddie Gray asks for people to stop breaking things, scuffling with cops. Fans are permitted to exit Camden Yards after briefly being told to stay put. 12 people arrested during protests, police commissioner says.\n",
      "Edward McCaffery: There's a fundamental unfairness to U.S. tax laws. But Americans don't care because most of us get a refund on Tax Day, and that makes us happy.\n",
      "Helen Dunn opened Sunday Mercury newspaper, saw raunchy pics. The 78-year-old was on cover of vintage lads mag, Span, in 1955. Went on to marry Manchester United pro footballer, Alan Dunn.\n",
      "Ollie the Owl was stolen from lounge area of the Admiral Rodney pub. Landlord  Richard Stevenson received 'ransom letter' instructing money to be donated to charity. Wooden statue has visited Belfast, Benidorm and Tunisia in last month.\n",
      "Police investigating links between Hatton Garden heist and Berlin bank raid. German detectives expected to make contact with Scotland Yard this week. They are keen to find out whether any DNA was recovered from the scene.\n"
     ]
    }
   ],
   "source": [
    "summary_examples(cnn_sample_fixed)"
   ]
  },
  {
   "cell_type": "code",
   "execution_count": 143,
   "metadata": {},
   "outputs": [
    {
     "data": {
      "text/plain": [
       "{'text': \"Tulip has been covering the outbreak over the past few months, reporting on the children born with microcephaly and other birth defects believed to be caused by the virus as well as speaking to scientists who are leading the fight back against Zika. Many of you got in touch on Facebook to ask Tulip questions about the new vaccine, and when it might be available to pregnant women. This is an edited version of the Facebook Q&A. Question from Dawn McLean: Have you tested the vaccine already? How do you know if it works or not? Tulip answers: Human trials haven't started for the vaccine being developed by the National Institutes of Health - where I have been reporting from this week. They are due to start - assuming no major problems - in the summer/ autumn of this year. If the vaccine is found to be safe with no concerning side effects, the drug will be given to a larger number of people to test how effective it is and further evaluate its safety. The final phase is giving it to large groups of people to confirm how effective it is. Question from Priscilla Wakanuma: How possible is it to make a vaccine for this virus? Tulip replies: Scientists here in Bethesda at the National Institutes of Health think it's very possible. They already have a vaccine for a similar virus - West Nile - which they have been working on. So they're using some of the tried and tested methods from that to try and develop a vaccine for Zika ASAP. Taj Rahman asks: The vaccine is available in November, I thought this was a global emergency? Tulip replies: Hi Taj - getting vaccines ready for market takes years, often decades. They have to go through stringent safety and efficacy trials and then get signed off by a whole load of regulatory bodies. When the WHO declared this public health emergency last month, one of the key things they highlighted was the urgent need for research into new vaccines. Scientists and pharmaceuticals came together very fast on Ebola, it's hoped that can happen again this time. But sadly, many more babies are expected to be born with these birth defects in the meantime. Question from Hannah Borrett: How have they managed to push through the development so quickly? Tulip replies: You're right, it can take years, decades even to get a new vaccine through all the clinical trials and then signed off through all the various national and international regulatory authorities. But in an emergency - which the Zika outbreak now is - things can be fast-tracked. A lot more money is put into research, and there's a much bigger political will to get things moving fast. Take the Ebola outbreak for example, there are now a couple of candidate vaccines that could be used in an outbreak that have shown some efficacy. Research - and cash - for that vaccine was pushed through super quickly. Adebola Misturah Martins-Bello asks about plans to prioritise who will be considered a priority for the vaccine. Tulip replies: The plan here at the National Institutes of Health is to have a special focus on protecting pregnant women. The virus isn't particularly harmful for most people, but the concern is this strongly suspected link to babies of infected mothers being born with under developed brains. If a link if confirmed, and a vaccine is developed quickly - health authorities will look into whether to add it to childhood vaccines, a bit like the rubella vaccine, which also protects girls/ women if they have babies later in life. You can follow @tulipmazumdar on Twitter.\",\n",
       " 'summary': \"The BBC's Global Health Correspondent Tulip Mazumdar has been investigating a new Zika vaccine which could be ready for human trials later this year.\"}"
      ]
     },
     "execution_count": 143,
     "metadata": {},
     "output_type": "execute_result"
    }
   ],
   "source": [
    "xsum_sample_fixed[0]"
   ]
  },
  {
   "cell_type": "code",
   "execution_count": 144,
   "metadata": {},
   "outputs": [
    {
     "name": "stdout",
     "output_type": "stream",
     "text": [
      "The treatment of employees in public services who have raised concerns about wrongdoing has often been \"shocking\", a group of MPs has said.\n",
      "The family of a black man who died after being apprehended by police has appealed for peace after violent protests in the wake of his death.\n",
      "Apple has expanded its use of \"two-step verification\" checks to protect data stored online by its customers.\n",
      "Survivors, rescuers and journalists involved in the Aberfan disaster have spoken of their experiences publicly, many for the first time in 50 years, at a conference in Cardiff.\n",
      "When the giant TV screens at the Likud election headquarters finally flashed up the results of the national exit polls, one-by-one there was a sudden tidal wave of sound.\n",
      "The father-in-law of former DUP director of communications John Robinson runs two green energy boilers under a botched energy scheme.\n",
      "Gateshead leapfrogged Wrexham into second place in the National League with a hard-fought win.\n",
      "Britain claimed five more gold medals at the Rio Paralympics, including a best-ever tally of three in the rowing.\n",
      "The pancreas can be triggered to regenerate itself through a type of fasting diet, say US researchers.\n",
      "Figures suggest almost 600 fewer GP surgeries in England open at evenings and weekends than before 2010, Labour has claimed.\n"
     ]
    }
   ],
   "source": [
    "summary_examples(xsum_sample_fixed)"
   ]
  },
  {
   "cell_type": "code",
   "execution_count": 145,
   "metadata": {},
   "outputs": [
    {
     "data": {
      "text/plain": [
       "{'text': 'The cause was complications of pneumonia, his daughter Elizabeth Cahill Tiedemann said. Dr. Cahill and generations of researchers he trained “wrote a lot of what have become the textbooks of physiology,” explaining glucose and protein metabolism both in normal health and in diabetes, said Dr. C. Ronald Kahn, the chief academic officer at the Joslin Diabetes Center in Boston, where Dr. Cahill was research director from 1962 to 1978. Among his research subjects were divinity students who were paid $300 to fast for a week and hibernating bears. Some of his most important research, in the 1960s, involved tracking the blood chemistry of people who were trying out an experimental treatment for severe obesity: total starvation, for up to six weeks, in the hospital. A crucial finding was that in the first few days without food, the liver starts breaking down protein to make glucose to feed the brain. But using protein as fuel can be perilous, because it is the stuff of vital organs and muscle. But people do survive weeks of starvation. Dr. Cahill’s study helped explain why. After about a week, the body makes another shift, and instead of cannibalizing its own proteins it starts breaking down fat into substances called ketones, which can feed the brain in place of glucose. A natural drop in insulin is what drives the shift to ketones, Dr. Cahill determined. The studies transformed scientists’ understanding of starvation and the way insulin regulates metabolism, said Dr. Joseph Avruch, a professor of medicine at the Harvard Medical School. On a practical level, the findings helped establish the importance of dietary protein to prevent organ damage in people who are on very low-calorie diets or who are ill or injured and not able to eat normally, said Dr. Rudolph Leibel, co-director of the Naomi Berrie Diabetes Center at Columbia University Medical Center. In addition, Dr. Kahn said, Dr. Cahill helped the military formulate high-energy bars for emergency rations. In 1982 and 1985, Dr. Cahill was called as an expert witness for the prosecution in the two trials of Mr. von Bülow for the attempted murder of his wife, Martha (also known as Sunny). Mrs. von Bülow was in a deep coma, possibly caused by extremely low blood sugar. Her husband was accused of trying to kill her with insulin, which lowers blood sugar. Dr. Cahill reviewed more than two years of her medical records and testified at the first trial that her coma, and a prior one from which she had recovered, were caused by insulin. The insulin level in her blood, he told the court, was “out of the ballpark.” In the first trial, Mr. von Bülow was found guilty and sentenced to 30 years in prison. He appealed, the conviction was overturned, and he was tried again. At the second trial, Dr. Cahill showed up with a pocket full of sugar cubes, which he lined up on the witness stand to help explain his points. He testified that insulin was the only plausible explanation for Mrs. von Bülow’s coma, but the defense lawyer challenged him repeatedly. Finally, Dr. Cahill said, “It is so difficult for me to answer inane questions.” Mr. von Bülow was acquitted at the second trial. Dr. Cahill was disappointed, Dr. Kahn said, adding, “I think he felt justice had not been done.” Mrs. von Bülow died in 2008, at 76, after nearly 28 years in a coma. George Francis Cahill Jr. was born in Manhattan on July 7, 1927. His father was a urologic surgeon at the Columbia College of Physicians and Surgeons. George Jr. attended the Hotchkiss School in Lakeville, Conn., and entered Yale at 16. At 17 he enlisted in the Navy as a pharmacist’s mate and was scheduled to take part in the invasion of Japan, but the atomic bombing of Hiroshima and Nagasaki changed that. After the war he finished college at Yale, and in 1953 he graduated from medical school at Columbia. He went on to become a professor of medicine at Harvard, and taught there until retiring in 1990. From 1958 until 1978 he also did research at the Joslin center, and from 1962 until 1990 he was a researcher and administrator for the Howard Hughes Medical Institute, which supports medical research. Besides Ms. Tiedemann, Dr. Cahill is survived by three other daughters, Colleen Cahill Remley, Sarah Rhett Cahill and Eva Wagner Cahill; two sons, Peter duPont Cahill and George F. Cahill III; and 15 grandchildren. His wife of 60 years, the former Sarah duPont, died in 2010. In an online article, Dr. Kahn called Dr. Cahill a “consummate teacher” and said that when he retired from medicine he began teaching a biology course for nonscientists at Dartmouth College that was an overnight success. Within days of Dr. Cahill’s first lecture, the class had to be moved from a room that held 100 to an auditorium that seated more than 400.',\n",
       " 'summary': 'Dr. Cahill clarified insulinâ\\x80\\x99s role in metabolism by studying research subjects on starvation diets, and he testified at Claus von BÃ¼lowâ\\x80\\x99s trials that he had tried to murder his wife with insulin.'}"
      ]
     },
     "execution_count": 145,
     "metadata": {},
     "output_type": "execute_result"
    }
   ],
   "source": [
    "newsroom_sample_fixed[0]"
   ]
  },
  {
   "cell_type": "code",
   "execution_count": 146,
   "metadata": {},
   "outputs": [
    {
     "name": "stdout",
     "output_type": "stream",
     "text": [
      "A group of exchange students sponsored by the State Department spent thousands of dollars to experience life in the United States, but what they got were arduous shifts in a factory and no help when they complained.\n",
      "When Secretary of State Hillary Rodham Clinton held a regular meeting Monday with her Turkish counterpart, there was little sign of the crisis atmosphere that has enveloped the State Department since the huge leak of confidential diplomatic cables.\n",
      "Readers who want Heaney to go on writing political poems may be disappointed with Field Work. They may tell him to leave the fields and return to the streets. The advice is redundant.\n",
      "Babies of women who took fish oil in the last three months of pregnancy had a 31 percent lower risk of developing asthma by age 3, a study in Denmark found.\n",
      "Fabien Cancellara might not have broken the bank at Monte Carlo but he will  leave Monaco the happiest of men on Sunday morning after going for broke and  destroying the field on the opening stage of the Tour de France.\n",
      "Fire crews in New Mexico fought two growing wild blazes Saturday that have driven people from their homes and scorched thousands of acres, while a shift in the wind prompted evacuation calls for more than 1,000 homes in California.\n",
      "NEW YORK, March 12 -- New York Gov. Eliot L. Spitzer, a rising Democratic Party star who won election 16 months ago as a crusading reformer against corruption, announced his resignation Wednesday after being ensnared in a federal investigation that exposed his double life as a longtime regular...\n",
      "As the retirement savings crisis deepens, the call for forced savings grows louder. We are headed for something like Australia's \"superannuation\" model--with the possibility of one big change: employee contributions.\n",
      "House Speaker John Boehner, R-Ohio, emerged Friday to say that \"no progress\" had been made on resolving the impending \"fiscal cliff.\" Capitol Hill's top Republican said that talks with President Barack Obama toward resolving the automatic tax hikes and spending cuts sched …\n",
      "For the first time in seven years, the UFC returned to Cincinnati with an under the radar fight card that delivered tons of action inside the Octagon. From early finishes to an electric main event, hereâs a look back at the best of the best from Saturday nightâs fights.\n"
     ]
    }
   ],
   "source": [
    "summary_examples(newsroom_sample_fixed)"
   ]
  },
  {
   "cell_type": "code",
   "execution_count": 147,
   "metadata": {},
   "outputs": [],
   "source": [
    "with open('data/cnn_sample.json', 'w') as f:\n",
    "    json.dump(cnn_sample_fixed, f)"
   ]
  },
  {
   "cell_type": "code",
   "execution_count": 148,
   "metadata": {},
   "outputs": [],
   "source": [
    "with open('data/xsum_sample.json', 'w') as f:\n",
    "    json.dump(xsum_sample_fixed, f)"
   ]
  },
  {
   "cell_type": "code",
   "execution_count": 149,
   "metadata": {},
   "outputs": [],
   "source": [
    "with open('data/newsroom_sample.json', 'w') as f:\n",
    "    json.dump(newsroom_sample_fixed, f)"
   ]
  },
  {
   "cell_type": "code",
   "execution_count": 150,
   "metadata": {},
   "outputs": [
    {
     "name": "stdout",
     "output_type": "stream",
     "text": [
      "total docs: 100\n",
      "avg text length: 699.2\n",
      "max text length: 999\n",
      "min text length: 500\n",
      "avg summary length: 40.91\n",
      "max summary length: 56\n",
      "min summary length: 20\n"
     ]
    }
   ],
   "source": [
    "data_stats(cnn_sample_fixed)"
   ]
  },
  {
   "cell_type": "code",
   "execution_count": 151,
   "metadata": {},
   "outputs": [
    {
     "name": "stdout",
     "output_type": "stream",
     "text": [
      "total docs: 100\n",
      "avg text length: 688.85\n",
      "max text length: 991\n",
      "min text length: 506\n",
      "avg summary length: 23.14\n",
      "max summary length: 39\n",
      "min summary length: 10\n"
     ]
    }
   ],
   "source": [
    "data_stats(xsum_sample_fixed)"
   ]
  },
  {
   "cell_type": "code",
   "execution_count": 152,
   "metadata": {},
   "outputs": [
    {
     "name": "stdout",
     "output_type": "stream",
     "text": [
      "total docs: 100\n",
      "avg text length: 717.43\n",
      "max text length: 995\n",
      "min text length: 507\n",
      "avg summary length: 36.48\n",
      "max summary length: 56\n",
      "min summary length: 30\n"
     ]
    }
   ],
   "source": [
    "data_stats(newsroom_sample_fixed)"
   ]
  },
  {
   "cell_type": "code",
   "execution_count": null,
   "metadata": {},
   "outputs": [],
   "source": []
  }
 ],
 "metadata": {
  "kernelspec": {
   "display_name": "Python 3",
   "language": "python",
   "name": "python3"
  },
  "language_info": {
   "codemirror_mode": {
    "name": "ipython",
    "version": 3
   },
   "file_extension": ".py",
   "mimetype": "text/x-python",
   "name": "python",
   "nbconvert_exporter": "python",
   "pygments_lexer": "ipython3",
   "version": "3.8.5"
  }
 },
 "nbformat": 4,
 "nbformat_minor": 4
}
